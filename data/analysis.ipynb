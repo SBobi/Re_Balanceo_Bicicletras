{
 "cells": [
  {
   "cell_type": "markdown",
   "metadata": {},
   "source": [
    "### Librerias"
   ]
  },
  {
   "cell_type": "code",
   "execution_count": 13,
   "metadata": {},
   "outputs": [],
   "source": [
    "import numpy as np\n",
    "import pandas as pd\n",
    "import plotly.express as px\n"
   ]
  },
  {
   "cell_type": "markdown",
   "metadata": {},
   "source": [
    "### Datos"
   ]
  },
  {
   "cell_type": "code",
   "execution_count": 14,
   "metadata": {},
   "outputs": [],
   "source": [
    "station_locations = pd.read_csv('../process_data/stations_all_info.csv')\n",
    "classic_trips = pd.read_csv('../process_data/trips_all_info.csv')"
   ]
  },
  {
   "cell_type": "markdown",
   "metadata": {},
   "source": [
    "### Plot"
   ]
  },
  {
   "cell_type": "code",
   "execution_count": 15,
   "metadata": {},
   "outputs": [],
   "source": [
    "def plot_station_locations(df, column_name, title):\n",
    "    fig = px.scatter_map(\n",
    "        df,\n",
    "        lat=\"lat\",\n",
    "        lon=\"long\",\n",
    "        color=f\"{column_name}_cat\",\n",
    "        color_discrete_sequence=df[f'{column_name}_color'].unique(),\n",
    "        size=df[column_name].abs(),\n",
    "        hover_name=\"name\",\n",
    "        hover_data={f\"{column_name}_cat\": True},\n",
    "        size_max=15,\n",
    "        zoom=12,\n",
    "        title=title,\n",
    "    )\n",
    "    fig.show()"
   ]
  },
  {
   "cell_type": "markdown",
   "metadata": {},
   "source": [
    "### Número de Viajes"
   ]
  },
  {
   "cell_type": "code",
   "execution_count": 16,
   "metadata": {},
   "outputs": [],
   "source": [
    "def trips_by_station(classic_trips, nr_stations=len(station_locations)):\n",
    "\n",
    "    # Group by 'Start date', 'Start station number', 'Start station', 'End station number', and 'End station'\n",
    "    grouped = classic_trips.groupby(['Start station number', 'Start station', 'End station number', 'End station']).size().reset_index(name='count').sort_values(by='count', ascending=False)\n",
    "    \n",
    "    # Get unique station ids\n",
    "    station_numbers = list(set(grouped['Start station number']).union(set(grouped['End station number'])))\n",
    "    station_numbers.sort()\n",
    "    \n",
    "    # Create a dictionary to map station numbers to their indices\n",
    "    station_nr_to_index = {station: idx for idx, station in enumerate(station_numbers)}\n",
    "    \n",
    "    # Initialize the dictionary of matrices\n",
    "    matrix = np.zeros((nr_stations, nr_stations), dtype=int)\n",
    "    \n",
    "    # Populate the matrix\n",
    "    for _, row in grouped.iterrows():\n",
    "        start_idx = station_nr_to_index[row['Start station number']]\n",
    "        end_idx = station_nr_to_index[row['End station number']]\n",
    "        matrix[start_idx, end_idx] += row['count']\n",
    "\n",
    "    return matrix\n",
    "\n",
    "def total_trips_per_station(matrix):\n",
    "\n",
    "    outgoing = matrix.sum(axis=1)\n",
    "    incoming = matrix.sum(axis=0)\n",
    "    diagonal = np.diag(matrix)\n",
    "    return outgoing + incoming - diagonal\n",
    "\n",
    "def net_flow_per_station(matrix):\n",
    "    \n",
    "    outgoing = matrix.sum(axis=1)\n",
    "    incoming = matrix.sum(axis=0)\n",
    "    return outgoing - incoming"
   ]
  },
  {
   "cell_type": "code",
   "execution_count": 17,
   "metadata": {},
   "outputs": [],
   "source": [
    "def categorize_column(df, column_name):\n",
    "    \"\"\"Categoriza valores y asigna colores\"\"\"\n",
    "    values = df[column_name]\n",
    "    hist, bins = np.histogram(values, bins=5)\n",
    "    \n",
    "    labels = [\n",
    "        f'< {bins[1]:.0f}',\n",
    "        f'{bins[1]:.0f} to {bins[2]:.0f}',\n",
    "        f'{bins[2]:.0f} to {bins[3]:.0f}',\n",
    "        f'{bins[3]:.0f} to {bins[4]:.0f}',\n",
    "        f'> {bins[4]:.0f}'\n",
    "    ]\n",
    "    \n",
    "    color_map = {\n",
    "        labels[0]: '#660000',  # Rojo muy oscuro\n",
    "        labels[1]: '#CC3333',  # Rojo oscuro\n",
    "        labels[2]: '#E6B3B3',  # Rosa oscuro\n",
    "        labels[3]: '#336633',  # Verde oscuro\n",
    "        labels[4]: '#004D00'   # Verde muy oscuro\n",
    "    }\n",
    "    \n",
    "    categories = pd.cut(values, bins=bins, labels=labels, include_lowest=True)\n",
    "    colors = categories.map(color_map)\n",
    "    \n",
    "    return categories, colors"
   ]
  },
  {
   "cell_type": "markdown",
   "metadata": {},
   "source": [
    "### Main"
   ]
  },
  {
   "cell_type": "code",
   "execution_count": 18,
   "metadata": {},
   "outputs": [
    {
     "data": {
      "application/vnd.plotly.v1+json": {
       "config": {
        "plotlyServerURL": "https://plot.ly"
       },
       "data": [
        {
         "customdata": [
          [
           "< 23"
          ],
          [
           "< 23"
          ],
          [
           "< 23"
          ],
          [
           "< 23"
          ],
          [
           "< 23"
          ],
          [
           "< 23"
          ],
          [
           "< 23"
          ],
          [
           "< 23"
          ],
          [
           "< 23"
          ],
          [
           "< 23"
          ],
          [
           "< 23"
          ],
          [
           "< 23"
          ],
          [
           "< 23"
          ],
          [
           "< 23"
          ],
          [
           "< 23"
          ],
          [
           "< 23"
          ],
          [
           "< 23"
          ],
          [
           "< 23"
          ],
          [
           "< 23"
          ],
          [
           "< 23"
          ],
          [
           "< 23"
          ],
          [
           "< 23"
          ],
          [
           "< 23"
          ],
          [
           "< 23"
          ],
          [
           "< 23"
          ],
          [
           "< 23"
          ],
          [
           "< 23"
          ],
          [
           "< 23"
          ],
          [
           "< 23"
          ],
          [
           "< 23"
          ],
          [
           "< 23"
          ],
          [
           "< 23"
          ],
          [
           "< 23"
          ],
          [
           "< 23"
          ],
          [
           "< 23"
          ],
          [
           "< 23"
          ],
          [
           "< 23"
          ],
          [
           "< 23"
          ],
          [
           "< 23"
          ],
          [
           "< 23"
          ],
          [
           "< 23"
          ],
          [
           "< 23"
          ],
          [
           "< 23"
          ],
          [
           "< 23"
          ],
          [
           "< 23"
          ],
          [
           "< 23"
          ],
          [
           "< 23"
          ],
          [
           "< 23"
          ],
          [
           "< 23"
          ],
          [
           "< 23"
          ],
          [
           "< 23"
          ],
          [
           "< 23"
          ],
          [
           "< 23"
          ],
          [
           "< 23"
          ],
          [
           "< 23"
          ],
          [
           "< 23"
          ],
          [
           "< 23"
          ],
          [
           "< 23"
          ],
          [
           "< 23"
          ],
          [
           "< 23"
          ],
          [
           "< 23"
          ],
          [
           "< 23"
          ],
          [
           "< 23"
          ],
          [
           "< 23"
          ],
          [
           "< 23"
          ],
          [
           "< 23"
          ],
          [
           "< 23"
          ],
          [
           "< 23"
          ],
          [
           "< 23"
          ],
          [
           "< 23"
          ],
          [
           "< 23"
          ],
          [
           "< 23"
          ],
          [
           "< 23"
          ],
          [
           "< 23"
          ],
          [
           "< 23"
          ],
          [
           "< 23"
          ],
          [
           "< 23"
          ],
          [
           "< 23"
          ],
          [
           "< 23"
          ],
          [
           "< 23"
          ],
          [
           "< 23"
          ],
          [
           "< 23"
          ],
          [
           "< 23"
          ],
          [
           "< 23"
          ],
          [
           "< 23"
          ],
          [
           "< 23"
          ],
          [
           "< 23"
          ],
          [
           "< 23"
          ],
          [
           "< 23"
          ],
          [
           "< 23"
          ],
          [
           "< 23"
          ],
          [
           "< 23"
          ],
          [
           "< 23"
          ],
          [
           "< 23"
          ],
          [
           "< 23"
          ],
          [
           "< 23"
          ],
          [
           "< 23"
          ],
          [
           "< 23"
          ],
          [
           "< 23"
          ],
          [
           "< 23"
          ],
          [
           "< 23"
          ],
          [
           "< 23"
          ],
          [
           "< 23"
          ],
          [
           "< 23"
          ],
          [
           "< 23"
          ],
          [
           "< 23"
          ],
          [
           "< 23"
          ],
          [
           "< 23"
          ],
          [
           "< 23"
          ],
          [
           "< 23"
          ],
          [
           "< 23"
          ],
          [
           "< 23"
          ],
          [
           "< 23"
          ],
          [
           "< 23"
          ],
          [
           "< 23"
          ],
          [
           "< 23"
          ],
          [
           "< 23"
          ],
          [
           "< 23"
          ],
          [
           "< 23"
          ],
          [
           "< 23"
          ],
          [
           "< 23"
          ],
          [
           "< 23"
          ],
          [
           "< 23"
          ],
          [
           "< 23"
          ],
          [
           "< 23"
          ],
          [
           "< 23"
          ],
          [
           "< 23"
          ],
          [
           "< 23"
          ],
          [
           "< 23"
          ],
          [
           "< 23"
          ],
          [
           "< 23"
          ],
          [
           "< 23"
          ],
          [
           "< 23"
          ],
          [
           "< 23"
          ],
          [
           "< 23"
          ],
          [
           "< 23"
          ],
          [
           "< 23"
          ],
          [
           "< 23"
          ],
          [
           "< 23"
          ],
          [
           "< 23"
          ],
          [
           "< 23"
          ]
         ],
         "hovertemplate": "<b>%{hovertext}</b><br><br>nbDocks_cat=%{customdata[0]}<br>nbDocks=%{marker.size}<br>lat=%{lat}<br>long=%{lon}<extra></extra>",
         "hovertext": [
          "Aberdeen Place, St. John's Wood",
          "Alderney Street, Pimlico",
          "Aldersgate Street, Barbican",
          "Ampton Street , Clerkenwell",
          "Baker Street, Marylebone",
          "Bank of England Museum, Bank",
          "Barbican Centre, Barbican",
          "Bath Street, St. Luke's",
          "Baylis Road, Waterloo",
          "Bedford Way, Bloomsbury",
          "Bell Street , Marylebone",
          "Black Prince Road, Vauxhall",
          "Bolsover Street, Fitzrovia",
          "Borough High Street, The Borough",
          "Bourne Street, Belgravia",
          "Broadcasting House, Marylebone",
          "Bruton Street, Mayfair",
          "Butler Place, Westminster",
          "Cadogan Gardens, Chelsea",
          "Carey Street, Holborn",
          "Cartwright Gardens , Bloomsbury",
          "Charlbert Street, St. John's Wood",
          "Charlotte Street, Fitzrovia",
          "Chelsea Green, Chelsea",
          "Clapham Common Station, Clapham Common",
          "Claremont Square, Angel",
          "Clerkenwell Green, Clerkenwell",
          "Cleveland Gardens, Bayswater",
          "Clifford Street, Mayfair",
          "Clifton Road, Maida Vale",
          "Commercial Street, Shoreditch",
          "Craven Street, Strand",
          "Crawford Street, Marylebone",
          "Curlew Street, Shad Thames",
          "Devonshire Terrace, Bayswater",
          "Dorset Square, Marylebone",
          "Earnshaw Street , Covent Garden",
          "Emperor's Gate, South Kensington",
          "Eversholt Street , Camden Town",
          "Farm Street, Mayfair",
          "Finsbury Leisure Centre, St. Luke's",
          "Frith Street, Soho",
          "George Row, Bermondsey",
          "Gloucester Road Station, South Kensington",
          "Gloucester Terrace, Bayswater",
          "Goswell Road (City Uni), Finsbury",
          "Gower Place , Euston",
          "Grosvenor Crescent, Belgravia",
          "Grove End Road, St. John's Wood",
          "Hampton Street, Walworth",
          "Harrowby Street, Marylebone",
          "Hereford Road, Bayswater",
          "High Holborn , Covent Garden",
          "Horseferry Road, Westminster",
          "Imperial College, Knightsbridge",
          "Jewry Street, Aldgate",
          "Kennington Road Post Office, Oval",
          "Kensington Church Street, Kensington",
          "Kensington Gore, Knightsbridge",
          "King Edward Walk, Waterloo",
          "Kingsway, Covent Garden",
          "LMU Commercial Road, Whitechapel",
          "Lambeth North Station, Waterloo",
          "Lambeth Road, Vauxhall",
          "Lexham Gardens, Kensington",
          "Lisson Grove, St. John's Wood",
          "Little Argyll Street, West End",
          "Long Lane , Bermondsey",
          "Longford Street, The Regent's Park",
          "Lower Marsh, Waterloo",
          "Mallory Street, Marylebone",
          "Montpelier Street, Knightsbridge",
          "Nesham Street, Wapping",
          "Nevern Place, Earl's Court",
          "New Globe Walk, Bankside",
          "New Inn Yard, Shoreditch",
          "New North Road 2, Hoxton",
          "North Audley Street, Mayfair",
          "North Wharf Road, Paddington",
          "Norton Folgate, Liverpool Street",
          "Nutford Place, Marylebone",
          "Old Quebec Street, Marylebone",
          "Ontario Street, Elephant & Castle",
          "Orsett Terrace, Bayswater",
          "Paddington Green, Paddington",
          "Paddington Street, Marylebone",
          "Palace Gate, Kensington Gardens",
          "Pall Mall East, West End",
          "Park Road (Baker Street), The Regent's Park",
          "Park Street, Bankside",
          "Pembridge Villas, Notting Hill",
          "Queen Street 1, Bank",
          "Queen's Gate, Kensington Gardens",
          "Queensway, Kensington Gardens",
          "Rampayne Street, Pimlico",
          "Red Lion Square, Holborn",
          "Regency Street, Westminster",
          "River Street , Clerkenwell",
          "Roscoe Street, St. Luke's",
          "Sackville Street, Mayfair",
          "Scala Street, Fitzrovia",
          "Serpentine Car Park, Hyde Park",
          "Shouldham Street, Marylebone",
          "Snow Hill, Farringdon",
          "South Kensington Station, South Kensington",
          "South Wharf Road, Paddington",
          "Southampton Place, Holborn",
          "Southampton Street, Strand",
          "St. Chad's Street, King's Cross",
          "St. George Street, Mayfair",
          "St. George's Square, Pimlico",
          "St. John Street, Finsbury",
          "St. Martin's Street, West End",
          "St. Mary Axe, Aldgate",
          "Sumner Place, South Kensington",
          "Tachbrook Street, Victoria",
          "The Guildhall, Guildhall",
          "The Tennis Courts, The Regent's Park",
          "Torrens Street, Angel",
          "Tower Wharf, Bermondsey",
          "Trebovir Road, Earl's Court",
          "Turquoise Island, Notting Hill",
          "Tysoe Street, Clerkenwell",
          "Union Street, The Borough",
          "Vauxhall Cross, Vauxhall",
          "Vauxhall Street, Vauxhall",
          "Vincent Square, Westminster",
          "Walnut Tree Walk, Vauxhall",
          "Wapping High Street, Wapping",
          "Wardour Street, Soho",
          "Warwick Avenue Station, Maida Vale",
          "Warwick Row, Westminster",
          "Waterloo Bridge, South Bank",
          "Waterloo Road, South Bank",
          "Wellington Road, St. John's Wood",
          "West Smithfield Rotunda, Farringdon",
          "Westbourne Green, Westbourne",
          "Westminster University, Marylebone",
          "Wood Street, Guildhall",
          "Woodstock Street, Mayfair",
          "Wormwood Street, Liverpool Street"
         ],
         "lat": {
          "bdata": "lQuVfy3DSUBR9UyreL5JQE/y2fCqwklAxhMH8X3DSUDbBsXBa8JJQFWBvTbZwUlAtkxl1ZDCSUBmfj14UMNJQIP62FUvwElA/AuxuAfDSUDQtOXY0cJJQP6TZMLUvklAfDv0owLDSUCh3FPFFsBJQKNWmL7XvklAGCN1r1HCSUB2wWTTX8FJQE4Co+S4v0lA6kKs/gi/SUBqbRrb68FJQKuegrJfw0lAIKWG9GPESUA8EB/5f8JJQMxApxjOvklAKGIRww67SUDJqHSoDcRJQESNWy/6wklAWksBaf/BSUDKmoFfXcFJQH0EQA1Gw0lAB+il/7jCSUD1RaWFCcFJQF+1MuGXwklAM+tatUrASUA2k2+2ucFJQIVALnHkwklAzr/hLhDCSUCzL9EHaL9JQH0ryIU5xElAS07UbzLBSUB26Zk9VMNJQMvosl6twUlAWaMeotG/SUAU7cd5Qb9JQMh1Oi1LwklAFR+fkJ3DSUCJJ9ynOsNJQMa0BFMswElAuQWmLvTDSUBg/F1t/75JQHKuvD85wklAwOeHEcLBSUAmrI2xE8JJQCcJkSVWv0lAJ3hURu2/SUDk8XpRt8FJQGTBzJANvklANmUbdmfASUBlvkn0LsBJQMHKoUW2v0lA8S3NKdjBSUC4jUgM6cFJQDj6FNfjv0lALAFjQ1i/SUA58AePeL9JQFbRQKhiw0lAK9qgH9vBSUCHKme14b9JQEFY17JGw0lAkiuKkQTASUAsFUzjNMNJQO8lpm7bv0lA1uQpq+nASUAKcw7gJb9JQE/8YgDywElArPVNsyPDSUB5zEBl/MNJQMJdBxinwUlACfoLPWLCSUAhBnjas8JJQDgmMEIdwklANQ0Grt3BSUDtE7z4jb9JQKTGhJhLwklAmxvTE5bCSUB3Y4N9osJJQCunuexCwElAQjaYn/7ASUBNpLBiI8NJQK6oucPDwElAKHKxN2vBSUAhCG+TesFJQLO8ITY4wElAL2mM1lHBSUBh3meFt75JQB++yNt8wklAYWeO1fu+SUCm8eqgu8NJQMEsYSvwwklAgSvRQEnBSUBZiC+PjMJJQNYCe0ykwElAPDHrxVDCSUABYGUCOMJJQP5fdeRIv0lAH5RiDTjCSUDBd/bwQMJJQHZ7nKtewUlAbX5w/NjDSUAabsDnh8FJQEiHhzB+vklArecYTqHDSUAIOjnHKcFJQKzXHSDSwUlAFuc9COC+SUA3pR+B/b5JQIFYmZ0DwklAkh8SOj/DSUBD3tUfH8RJQLyuX7AbwElAUlwbS9S+SUAuM1P31MFJQBUMfH9iw0lARUNK3HjASUDUbmiIMr5JQPilft5UvklA3ECJ6Dq/SUDD0G4dMb9JQE/Pu7GgwElApcZbGZrBSUDSXQr2/MJJQJm8AWa+v0lAysSMdK/ASUB/h6JAn8BJQJWgnsI6xElAIn0H/VTCSUBFgqlm1sJJQHVAba/gwklAKlyHUS3CSUC0gH0yzsFJQJjQsFoRwklA",
          "dtype": "f8"
         },
         "legendgroup": "< 23",
         "lon": {
          "bdata": "9WiqJ/OPxr8w7NCz0APCv3uZYOxI67i/GL1snpdIvr9OjW+mRP3Dv9G2Z4QhbLa/BJRTKeCYt78+6miCzEG3v7ZE2DfKVry/mymJ+a1uwL9kRGomVDrFv2L3ZJjv7b2/wV+tie5hwr+eG8jqvjK4v9AUlWgkncO/fU+Eixd2wr+UzVytAXTCvwFLG/8fVsG/syeBzTl4xL+LpogTZd28v3EB2ukWIMC/6CfmanWDxb/Dkv6gJmHBv1HgYBliT8W/w/nMQALSwb98IxjZXiO8v+XjljM0zrq/xx/fum9wx78VbDo6YjjCv+lXQpDm/Ma/AIXEhyNZs79xpzoFdSHAvwSanX+aHsS/njAXpxD+sr9RpWYPtALHv6cW5ENdn8S/mGofWHl1wL/ZMCTWy7fHv7eEIxhsgsG/uXstpqHfwr+nSv6hRai4v8EgRI2dy8C/+H9m9Mmosb/SYp3owmHHv/D4f6CfE8i/LPp93tjcub+QJf/V203BvzO28dbim8O/fGZ+cmqgxr8GbIPqUf65v4YDIVnABMW/Wb+ZmC7EyL9ZxLDDmPS/v9x0V7jdssC/nBG3oH0Ax7+sqSwKu6izv5QbDSy8Vby/v93RgPOCyL+s3tJLO97Gv+IGfH4YIby/efKVsp9Uvr/eHOZ/feqwv0F9m2MYrry/8jiLZZozvr9kWd+pSJHIv/bZkYJYCsa/9cVz8Csawr+zu5ZJOu61v9NdKExXccK/R8wh5ugqvb/KKosTdknFv+8g8m0sLsW//n3GhQMhsb8Rp8sW1O3Ivy3zi09XsLi/Lm8qLJpJtL/Jx+4CJQW2v5i0P9anqsO//g+wVu2axr89TDDZzjC0v370nODaCsW/gjpNtQJCxL+QO2VoTvS5v8YSUI0JhMe/yCWOPBBZxr9Q7XF+Qc3Dv2n7SCttmse/+1tq08S6wL/5Fo+461jEv4gP4oa8vre/0eZPU39Iyb8Kqvwh7Mq3v/r9/z92Bce/GsY42sz8x78eqadXFgHBv3ES9xbefr6/pqSbhbzswL+RJ/1IBye8v2nGp6KmTbi/GXpmd7jFwb+e7WR/v2nBv1ZRUS/XJsa/3GYqxCPxxL8H/eLYzoW6v8qoMoy7Qca/vGE7FfmAxr/4jG/oYA+/vx3NVDJHKb+/MG9XrSH4vr/qT5TktkbCv3br9SGBXMG/L/t1pzvPur8gwM6/8JnAv5Tgk6IjprS/shlFrlI8xr8++WN28LXBv7jysFUk1Le/k0BVFbKkw7+97UR0yAC7v75s2ELSH7O/mPTM0hscyb+MCz/sELXJvybsH2dB+Lu/jgGD6yQ3ub+QrP4zQ92/v0Jg5dAi272/k/DJMuCGwb+Gh2goeWu8v0rvG197ZrG/WwghCcMMwb/hbOxyR4jHvz0mtcSITMK/rFIpX5gYvb/XUGovou28vyLp0HJrFca/nbo0dnDNub8AKJq9Iq7Iv0K3nO3/08O/ju/F9t4IuL/npDTxx9rCv2WxKWSiGbW/",
          "dtype": "f8"
         },
         "marker": {
          "color": "#660000",
          "size": {
           "bdata": "Eg4PFRYQExIWFxITExUQEhUSDxAVEA4PFRIVEBEWEBcSFRAQEhYPDxQSFg8XERESFBUQFhQQFRESERcWEA4UEhMSFRQVERQQEBQTFBYRFxcSEA8PFBANFhYSEBYVERUQFhMSEhUSEA8PEBQOFxIQEhIVExAREBMUEhUUERETExQUEBMVDw8RDxUQERUQ",
           "dtype": "i1"
          },
          "sizemode": "area",
          "sizeref": 0.28444444444444444
         },
         "mode": "markers",
         "name": "< 23",
         "showlegend": true,
         "subplot": "map",
         "type": "scattermap"
        },
        {
         "customdata": [
          [
           "23 to 33"
          ],
          [
           "23 to 33"
          ],
          [
           "23 to 33"
          ],
          [
           "23 to 33"
          ],
          [
           "23 to 33"
          ],
          [
           "23 to 33"
          ],
          [
           "23 to 33"
          ],
          [
           "23 to 33"
          ],
          [
           "23 to 33"
          ],
          [
           "23 to 33"
          ],
          [
           "23 to 33"
          ],
          [
           "23 to 33"
          ],
          [
           "23 to 33"
          ],
          [
           "23 to 33"
          ],
          [
           "23 to 33"
          ],
          [
           "23 to 33"
          ],
          [
           "23 to 33"
          ],
          [
           "23 to 33"
          ],
          [
           "23 to 33"
          ],
          [
           "23 to 33"
          ],
          [
           "23 to 33"
          ],
          [
           "23 to 33"
          ],
          [
           "23 to 33"
          ],
          [
           "23 to 33"
          ],
          [
           "23 to 33"
          ],
          [
           "23 to 33"
          ],
          [
           "23 to 33"
          ],
          [
           "23 to 33"
          ],
          [
           "23 to 33"
          ],
          [
           "23 to 33"
          ],
          [
           "23 to 33"
          ],
          [
           "23 to 33"
          ],
          [
           "23 to 33"
          ],
          [
           "23 to 33"
          ],
          [
           "23 to 33"
          ],
          [
           "23 to 33"
          ],
          [
           "23 to 33"
          ],
          [
           "23 to 33"
          ],
          [
           "23 to 33"
          ],
          [
           "23 to 33"
          ],
          [
           "23 to 33"
          ],
          [
           "23 to 33"
          ],
          [
           "23 to 33"
          ],
          [
           "23 to 33"
          ],
          [
           "23 to 33"
          ],
          [
           "23 to 33"
          ],
          [
           "23 to 33"
          ],
          [
           "23 to 33"
          ],
          [
           "23 to 33"
          ],
          [
           "23 to 33"
          ],
          [
           "23 to 33"
          ],
          [
           "23 to 33"
          ],
          [
           "23 to 33"
          ],
          [
           "23 to 33"
          ],
          [
           "23 to 33"
          ],
          [
           "23 to 33"
          ],
          [
           "23 to 33"
          ],
          [
           "23 to 33"
          ],
          [
           "23 to 33"
          ],
          [
           "23 to 33"
          ],
          [
           "23 to 33"
          ],
          [
           "23 to 33"
          ],
          [
           "23 to 33"
          ],
          [
           "23 to 33"
          ],
          [
           "23 to 33"
          ],
          [
           "23 to 33"
          ],
          [
           "23 to 33"
          ],
          [
           "23 to 33"
          ],
          [
           "23 to 33"
          ],
          [
           "23 to 33"
          ],
          [
           "23 to 33"
          ],
          [
           "23 to 33"
          ],
          [
           "23 to 33"
          ],
          [
           "23 to 33"
          ],
          [
           "23 to 33"
          ],
          [
           "23 to 33"
          ],
          [
           "23 to 33"
          ],
          [
           "23 to 33"
          ],
          [
           "23 to 33"
          ],
          [
           "23 to 33"
          ],
          [
           "23 to 33"
          ],
          [
           "23 to 33"
          ],
          [
           "23 to 33"
          ],
          [
           "23 to 33"
          ],
          [
           "23 to 33"
          ],
          [
           "23 to 33"
          ],
          [
           "23 to 33"
          ],
          [
           "23 to 33"
          ],
          [
           "23 to 33"
          ],
          [
           "23 to 33"
          ],
          [
           "23 to 33"
          ],
          [
           "23 to 33"
          ],
          [
           "23 to 33"
          ],
          [
           "23 to 33"
          ],
          [
           "23 to 33"
          ],
          [
           "23 to 33"
          ],
          [
           "23 to 33"
          ]
         ],
         "hovertemplate": "<b>%{hovertext}</b><br><br>nbDocks_cat=%{customdata[0]}<br>nbDocks=%{marker.size}<br>lat=%{lat}<br>long=%{lon}<extra></extra>",
         "hovertext": [
          "Albert Embankment, Vauxhall",
          "Ashley Place, Victoria",
          "Bayswater Road, Hyde Park",
          "Belgrave Road, Victoria",
          "Bermondsey Street, Bermondsey",
          "Black Lion Gate, Kensington Gardens",
          "Boston Place, Marylebone",
          "Bramham Gardens, Earl's Court",
          "Brick Lane Market, Shoreditch",
          "Bricklayers Arms, Borough",
          "Brunswick Square, Bloomsbury",
          "Bunhill Row, Moorgate",
          "Calshot Street , King's Cross",
          "Chapel Place, Marylebone",
          "Chepstow Villas, Notting Hill",
          "Christopher Street, Liverpool Street",
          "Claverton Street, Pimlico",
          "Columbia Road, Shoreditch",
          "Cotton Garden Estate, Kennington",
          "Dickens Square, Borough",
          "Drummond Street , Euston",
          "Drury Lane, Covent Garden",
          "East Road, Hoxton",
          "Endsleigh Gardens, Euston",
          "Euston Road, Euston",
          "Falkirk Street, Hoxton",
          "Finsbury Circus, Liverpool Street",
          "Finsbury Library , Finsbury",
          "Finsbury Square , Moorgate",
          "Fire Brigade Pier, Vauxhall",
          "Flood Street, Chelsea",
          "Frampton Street, Paddington",
          "George Street, Marylebone",
          "Gloucester Street, Pimlico",
          "Godliman Street, St. Paul's",
          "Golden Lane, Barbican",
          "Graham Street, Angel",
          "Great Dover Street, The Borough",
          "Great Russell Street, Bloomsbury",
          "Great Tower Street, Monument",
          "Grosvenor Road, Pimlico",
          "Guilford Street , Bloomsbury",
          "Hardwick Street, Clerkenwell",
          "Harriet Street, Knightsbridge",
          "Harrington Square 1, Camden Town",
          "Hatton Garden, Holborn",
          "Hatton Wall, Holborn",
          "Holy Trinity Brompton, Knightsbridge",
          "Howick Place, Westminster",
          "Howland Street, Fitzrovia",
          "Ilchester Place, Kensington",
          "Kennington Lane Rail Bridge, Vauxhall",
          "Kensington Olympia Station, Olympia",
          "Liverpool Road (N1 Centre), Angel",
          "Lollard Street, Vauxhall",
          "London Zoo,  The Regent's Park",
          "Lower Thames Street, Monument",
          "Macclesfield Rd, St Lukes",
          "Marylebone Lane, Marylebone",
          "Millbank Tower, Pimlico",
          "Millennium Hotel, Mayfair",
          "Milroy Walk, South Bank",
          "Murray Grove , Hoxton",
          "New Kent Road, The Borough",
          "Notting Hill Gate Station, Notting Hill",
          "Park Lane , Hyde Park",
          "Pindar Street, Liverpool Street",
          "Pont Street, Knightsbridge",
          "Poured Lines, Bankside",
          "Prince Albert Road, The Regent's Park",
          "Queen Mother Sports Centre, Victoria",
          "Queen Victoria Street, St. Paul's",
          "Queen's Gate (Central), South Kensington",
          "Queen's Gate (South), South Kensington",
          "Risinghill Street, Angel",
          "Riverlight North, Nine Elms",
          "Russell Square Station, Bloomsbury",
          "Sardinia Street, Holborn",
          "Sedding Street, Sloane Square",
          "Seville Street, Knightsbridge",
          "Shoreditch Park, Hoxton",
          "Stamford Street, South Bank",
          "Sun Street, Liverpool Street",
          "Swan Street, The Borough",
          "Tavistock Street, Covent Garden",
          "Taviton Street, Bloomsbury",
          "Theobald's Road , Holborn",
          "Tooley Street, Bermondsey",
          "Tower Gardens , Tower",
          "Triangle Car Park, Hyde Park",
          "Warren Street Station, Euston",
          "Wellington Street , Strand",
          "Wenlock Road , Hoxton",
          "West Cromwell Road, Earl's Court",
          "Westbourne Grove, Bayswater",
          "William IV Street, Strand",
          "Windsor Terrace, Hoxton"
         ],
         "lat": {
          "bdata": "6JEWmca+SUAFenYzgr9JQCBfQgWHwUlA737LUiG/SUAkl2K7ub9JQKeNbq1EwUlAb2b0o+HCSUDVUWGuvb5JQE8bWSLlwklAO4lrKV6/SUBuRSjXEMNJQKI94oCrwklAdTeynwPESUDKDjud9cFJQCPDx7ONwUlA9Ao0bbnCSUBvn/I7D75JQBCWsaGbw0lAd2ClJ9G+SUDcRE7blr9JQE4qGmt/w0lAi5EdAuTBSUBhKNSRq8NJQHr+9m1vw0lA6TsJtlvDSUB2nl8x9sNJQNxCPoUvwklAOjV+fmvDSUBTqzPnrsJJQM9Rw44xv0lAb+OBjne+SUANoIQ+/cJJQEIFhxdEwklAdFSg3Ne+SUCyOigXmcFJQBBBMKLIwklAZUOKQy7ESUC1Buc6qr9JQHgNG+FEwklAetOhkVfBSUBncEovIL5JQDdvewb9wklAV/d+WZDDSUAsq5/tB8BJQK3lCPg5xElAJMoo4GjCSUDKy1DLxcJJQJeQMIifv0lA+wRxmpW/SUDEtG/ur8JJQKZdr10YwElAD9AigEC+SUAZJmyiw79JQL4OpKRqxElAgz27tha/SUD7FJVHlsRJQAVgj8swwUlAB2ADIsTDSUBWE8Ck48FJQIL8zw72vklATQCzzWXBSUB1HS5i7cBJQOJaijf0w0lAClT3r0m/SUC8gCx+MsFJQOEyXT5IwUlABthHp67CSUB2qRH6mb9JQGx1nE/bwElAZYHhIpjESUCbz7FqLb9JQFUAhPaHwUlAg0QkVDq/SUC6C72TCb9JQGwoENFDxElApWq7Cb69SUBIo4Zf/8JJQJxR81XywUlAl1ZD4h6/SUB23d/JPMBJQNf64IRbxElAVc+TfLbASUAWUKinj8JJQDfhoLUJwElASbkcK4jBSUDNim7eNMNJQAytkOqiwklAkF4efHLASUDkYF+AN8FJQHyGiWnTwElA6cGTzCDDSUC+m1U8gcFJQGoyJYr3w0lAgddfXTK/SUB/SKbg/MFJQLX5Aw42wUlApiorVbvDSUA=",
          "dtype": "f8"
         },
         "legendgroup": "23 to 33",
         "lon": {
          "bdata": "xSu4O0Vwv78CxYh3kgrCvx0FiIIZU8a/cqQzMPJywr8rkV3MQ+S0v6xEJ+s6C8i/BmUaTS7GxL+/LqJx0V7Iv0G1H/vpV7K/2CfHN/D3tb+51sBRUFy/v9NXiPXjAre/A3vaTkz4vb+RI0w6ktfCv4h/qJmNzMm/7wgy+Leotb8r15wC56zBv7Kd76fGS7O/IH7dbQc4u7/Y0OSatgq4vxIXHRwuasG//nrHIclJv7+CCKbXvGO2v9CXjbddtMC/+gjWGkU0wb8bBdfI7Ri0v5gQ7Q8GMba/ewlDVEmzur+uyM4sIOy1vwbquA2vE7+/slwdnUZcxb/3ohpPNGrGvy0GD9O+ucO/QFJYajzfwb+lFQrRVGG5v4z5hrCEL7i/ylIbN12Yub9IkBfA/uW2vyZQc9uGXcC/xusdFc8+tb8HHhLQ2jPCv/kRBjiZxb6/hNK8iFuqu79lMVZARmXEvwQ/rxp50MG/wd9GAsGnu78zoe6o1ue7v4u3uSQTn8W/LeTSdwXCwb9HdM+6RsvBv3tZQIwD9Mm//i8CdKlbv7+YZTsetNDKvxE4Lr3fY7u/g1F+j1Bsvb9WCC/qKAHEv8+uqKyZwbW/Vdy4xfzcuL+Fi+REHvXCv4CMLcIcFsC/9f7//xtYw79LXWeAYTK7v6I3jrj9+7a/Bv7HdK7Jt789ghspWyTJv87uiaibIcS/8lFEW9Vftb9MAKC4U6LEvwLjqd82Z7q/8qDWveCWxL9JAshhFOrBvwic7jrw8bi/dVe43bLgxr8ygFqG5NbGvy7BTlaxnby/55ImtYJswb9PLw3Qcca/vwyQaAJFLL6/b37DRIMUxL/sTZpz4WHEvw6AjSv7HLa/RKlVpUGSvL8NzIvFz3y1v3rx9+tLv7e/SzDrsWznvr+qHpbx4snAvyFe4aFL372/YAkgjApitL8q9FwHUFGzv++C82+4y8W/Z89b+J6qwb8k70KR86C+v4QkWMEUCri/caeLTHRhyb9DN8vKzlnIvz6dB4SR77+/3xwqnXrqt78=",
          "dtype": "f8"
         },
         "marker": {
          "color": "#CC3333",
          "size": {
           "bdata": "GBkbHRgYGh0YHBgeGB0aICAYGCAcGxsgGBohHSEeISAbGRkbGiEaGB0gHhkbHBocGx4YHxkYGSAYHBgYGx4bIR4cGBgfGBogHxkZGBoYGxseGxgbIR4aGxgbGhgcGBoaGA==",
           "dtype": "i1"
          },
          "sizemode": "area",
          "sizeref": 0.28444444444444444
         },
         "mode": "markers",
         "name": "23 to 33",
         "showlegend": true,
         "subplot": "map",
         "type": "scattermap"
        },
        {
         "customdata": [
          [
           "33 to 44"
          ],
          [
           "33 to 44"
          ],
          [
           "33 to 44"
          ],
          [
           "33 to 44"
          ],
          [
           "33 to 44"
          ],
          [
           "33 to 44"
          ],
          [
           "33 to 44"
          ],
          [
           "33 to 44"
          ],
          [
           "33 to 44"
          ],
          [
           "33 to 44"
          ],
          [
           "33 to 44"
          ],
          [
           "33 to 44"
          ],
          [
           "33 to 44"
          ],
          [
           "33 to 44"
          ],
          [
           "33 to 44"
          ],
          [
           "33 to 44"
          ],
          [
           "33 to 44"
          ],
          [
           "33 to 44"
          ],
          [
           "33 to 44"
          ],
          [
           "33 to 44"
          ],
          [
           "33 to 44"
          ],
          [
           "33 to 44"
          ],
          [
           "33 to 44"
          ],
          [
           "33 to 44"
          ],
          [
           "33 to 44"
          ],
          [
           "33 to 44"
          ],
          [
           "33 to 44"
          ],
          [
           "33 to 44"
          ],
          [
           "33 to 44"
          ],
          [
           "33 to 44"
          ],
          [
           "33 to 44"
          ],
          [
           "33 to 44"
          ],
          [
           "33 to 44"
          ],
          [
           "33 to 44"
          ],
          [
           "33 to 44"
          ],
          [
           "33 to 44"
          ],
          [
           "33 to 44"
          ],
          [
           "33 to 44"
          ],
          [
           "33 to 44"
          ],
          [
           "33 to 44"
          ],
          [
           "33 to 44"
          ],
          [
           "33 to 44"
          ],
          [
           "33 to 44"
          ],
          [
           "33 to 44"
          ]
         ],
         "hovertemplate": "<b>%{hovertext}</b><br><br>nbDocks_cat=%{customdata[0]}<br>nbDocks=%{marker.size}<br>lat=%{lat}<br>long=%{lon}<extra></extra>",
         "hovertext": [
          "Albert Gate, Hyde Park",
          "Belvedere Road 1, South Bank",
          "Berry Street, Clerkenwell",
          "Bethnal Green Road, Shoreditch",
          "Borough Road, Elephant & Castle",
          "Braham Street, Aldgate",
          "British Museum, Bloomsbury",
          "Brushfield Street, Liverpool Street",
          "Buxton Street 1, Shoreditch",
          "Cloudesley Road, Angel",
          "Crosswall, Tower",
          "Eastbourne Mews, Paddington",
          "Elizabeth Bridge, Victoria",
          "Embankment (Savoy), Strand",
          "Harper Road, The Borough",
          "Holborn Circus, Holborn",
          "Hyde Park Corner, Hyde Park",
          "Kennington Road, Vauxhall",
          "Knightsbridge, Hyde Park",
          "LSBU (Borough Road), Elephant & Castle",
          "Leman Street, Aldgate",
          "Leonard Circus , Shoreditch",
          "London Zoo Car Park, The Regent's Park",
          "Maida Vale, Maida Vale",
          "Natural History Museum, South Kensington",
          "New Road 1 , Whitechapel",
          "Newgate Street , St. Paul's",
          "Northumberland Avenue, Strand",
          "Old Street Station, St. Luke's",
          "Palace Gardens Terrace, Notting Hill",
          "Phillimore Gardens, Kensington",
          "Portland Place, Marylebone",
          "Queen's Gate (North), Kensington",
          "Royal London Hospital, Whitechapel",
          "St. James's Square, St. James's",
          "St. John's Wood Road, St. John's Wood",
          "Strand, Strand",
          "Tanner Street, Bermondsey",
          "Vauxhall Bridge , Pimlico",
          "Warwick Road, Olympia",
          "Waterloo Station 1, Waterloo",
          "Waterloo Station 3, Waterloo",
          "Wellington Arch, Hyde Park",
          "Wright's Lane, Kensington"
         ],
         "lat": {
          "bdata": "gbkvymDASUD4m1j5yMBJQFdI8djswklADjUj5gbDSUD1NnDm279JQAUNw2jSwUlAHzqQN3HCSUD/0MyTa8JJQDrrU47JwklANqbtgGfESUBt4FDwe8FJQPNQ4/cZwklA07i79wW/SUBk75yYO8FJQABU1A3Sv0lAekDyMUzCSUAlipgrZsBJQI9QVLJzv0lAH1G6V1rASUBFTbLd1r9JQMaZ0yOVwUlA8aq9PinDSUBO2YbducRJQEFHq1rSw0lALEqmlm+/SUBTJcreUsJJQGMpkq8EwklAldi1vd3ASUC+pDFaR8NJQBCvqfsZwUlAWo3bHvO/SUDy8BrLpsJJQAGDaqQhwElAXCBB8WPCSUC/9idM88BJQFTtiWR+w0lAV0J3SZzBSUC03pgzFcBJQAoN5cCCvklAllVcRZS/SUD+SM/8g8BJQGfM6j58wElAAhHiylnASUB2sf4JDcBJQA==",
          "dtype": "f8"
         },
         "legendgroup": "33 to 44",
         "lon": {
          "bdata": "UbQNBEpIxL9UGN9AFly9vyBwIs81mbm/Euh0oiIjs78oYeNQeLa5v0de9Bpd07K/zocbe+zqv7/Hnj2XqUm0v+4kIvyLoLG/3fmcwBbpu78BddATOb6zv0OJ7/Tl7ca/hFexSZXgwr9a5cCt5nm+v5f1sW77n7i/tsScMPnQu7+RxYnxkqbDv42jTk09Y7y/6KYo8n/iw79STtIB62a6vzXqpVKBzbG/+0f/X9Cdtb9YGDlDJTnDvz9JiXZ4fMe/yMKOAQTsxr8ArI4c6Qywv/0PETenkrm/kiVzLO+qv7/+P6GNEqq2v7S6IwNDzci/tgmN5hxKyb8JPKxHTJbCv8Zkg+JNEse/YMjqVs9Jr7+tYQCNRDvBv4JFZKkMW8a/+n+qLGV0vb85W7/nJx+0v8jCXsjtjsC/2NXDG8JGyr/ARWH2Nia9vzAhzfUJ4ry/N1VkZRUlw798t7v/drbIvw==",
          "dtype": "f8"
         },
         "marker": {
          "color": "#E6B3B3",
          "size": {
           "bdata": "IiYpJikiIyIpJSIiIikqKCQkKyMlKyQnKiQjJSIlJSIpKigjIykjJCQjJCU=",
           "dtype": "i1"
          },
          "sizemode": "area",
          "sizeref": 0.28444444444444444
         },
         "mode": "markers",
         "name": "33 to 44",
         "showlegend": true,
         "subplot": "map",
         "type": "scattermap"
        },
        {
         "customdata": [
          [
           "44 to 54"
          ],
          [
           "44 to 54"
          ],
          [
           "44 to 54"
          ],
          [
           "44 to 54"
          ],
          [
           "44 to 54"
          ],
          [
           "44 to 54"
          ],
          [
           "44 to 54"
          ],
          [
           "44 to 54"
          ],
          [
           "44 to 54"
          ],
          [
           "44 to 54"
          ],
          [
           "44 to 54"
          ]
         ],
         "hovertemplate": "<b>%{hovertext}</b><br><br>nbDocks_cat=%{customdata[0]}<br>nbDocks=%{marker.size}<br>lat=%{lat}<br>long=%{lon}<extra></extra>",
         "hovertext": [
          "Argyle Street, Kings Cross",
          "City Road, Angel",
          "Doric Way , Somers Town",
          "Empire Square, The Borough",
          "Kennington Cross, Kennington",
          "Malet Street, Bloomsbury",
          "Museum of London, Barbican",
          "St. John's Wood Church, The Regent's Park",
          "Waterloo Station 2, Waterloo",
          "Whitehall Place, Strand",
          "Worship Street, Shoreditch"
         ],
         "lat": {
          "bdata": "VP1K58PDSUCe0OtP4sNJQHwCctOww0lAgeKu+xrASUCuTNeXlb5JQKCGkG/GwklA2/sS+UfCSUAwStBf6MNJQF8UFHGAwElA/XpsaNbASUBTr1sExsJJQA==",
          "dtype": "f8"
         },
         "legendgroup": "44 to 54",
         "lon": {
          "bdata": "+reF+NG6v7/9EBssnKS5v1WV3oCU7cC/eoB/LkD5tr9qeWxrDoe8v9Kz6aD8scC/UW5XvwS0uL/FckurIXHFvx1+Dl6BCb2/qmwlYrSIv78Ab+nnOWG0vw==",
          "dtype": "f8"
         },
         "marker": {
          "color": "#336633",
          "size": {
           "bdata": "LS8yLi8xNDIwLjM=",
           "dtype": "i1"
          },
          "sizemode": "area",
          "sizeref": 0.28444444444444444
         },
         "mode": "markers",
         "name": "44 to 54",
         "showlegend": true,
         "subplot": "map",
         "type": "scattermap"
        },
        {
         "customdata": [
          [
           "> 54"
          ],
          [
           "> 54"
          ],
          [
           "> 54"
          ],
          [
           "> 54"
          ],
          [
           "> 54"
          ],
          [
           "> 54"
          ],
          [
           "> 54"
          ]
         ],
         "hovertemplate": "<b>%{hovertext}</b><br><br>nbDocks_cat=%{customdata[0]}<br>nbDocks=%{marker.size}<br>lat=%{lat}<br>long=%{lon}<extra></extra>",
         "hovertext": [
          "Bankside Mix, Bankside",
          "Edgware Road Station, Marylebone",
          "Hampstead Road, Euston",
          "Hop Exchange, The Borough",
          "Moorfields, Moorgate",
          "Royal College Street, Camden Town",
          "Soho Square , Soho"
         ],
         "lat": {
          "bdata": "znfoor7ASUC3e7lPjsJJQJvIq/dEw0lAytoJo5fASUDk4AzdcMJJQNYCe0ykxElAccsFNgDCSUA=",
          "dtype": "f8"
         },
         "legendgroup": "> 54",
         "lon": {
          "bdata": "78jr0M+lub91BduIJ7vFv1GQ1TaQscG/9uiMdnx+t798Fu7W3pm2v+XsndFWJcG/mcmdvSbwwL8=",
          "dtype": "f8"
         },
         "marker": {
          "color": "#004D00",
          "size": {
           "bdata": "PEA2ODY5OQ==",
           "dtype": "i1"
          },
          "sizemode": "area",
          "sizeref": 0.28444444444444444
         },
         "mode": "markers",
         "name": "> 54",
         "showlegend": true,
         "subplot": "map",
         "type": "scattermap"
        }
       ],
       "layout": {
        "legend": {
         "itemsizing": "constant",
         "title": {
          "text": "nbDocks_cat"
         },
         "tracegroupgap": 0
        },
        "map": {
         "center": {
          "lat": 51.51149450144678,
          "lon": -0.12971500170708067
         },
         "domain": {
          "x": [
           0,
           1
          ],
          "y": [
           0,
           1
          ]
         },
         "zoom": 12
        },
        "mapbox": {
         "center": {
          "lat": 51.51149450144678,
          "lon": -0.12971500170708067
         },
         "zoom": 12
        },
        "template": {
         "data": {
          "bar": [
           {
            "error_x": {
             "color": "#2a3f5f"
            },
            "error_y": {
             "color": "#2a3f5f"
            },
            "marker": {
             "line": {
              "color": "#E5ECF6",
              "width": 0.5
             },
             "pattern": {
              "fillmode": "overlay",
              "size": 10,
              "solidity": 0.2
             }
            },
            "type": "bar"
           }
          ],
          "barpolar": [
           {
            "marker": {
             "line": {
              "color": "#E5ECF6",
              "width": 0.5
             },
             "pattern": {
              "fillmode": "overlay",
              "size": 10,
              "solidity": 0.2
             }
            },
            "type": "barpolar"
           }
          ],
          "carpet": [
           {
            "aaxis": {
             "endlinecolor": "#2a3f5f",
             "gridcolor": "white",
             "linecolor": "white",
             "minorgridcolor": "white",
             "startlinecolor": "#2a3f5f"
            },
            "baxis": {
             "endlinecolor": "#2a3f5f",
             "gridcolor": "white",
             "linecolor": "white",
             "minorgridcolor": "white",
             "startlinecolor": "#2a3f5f"
            },
            "type": "carpet"
           }
          ],
          "choropleth": [
           {
            "colorbar": {
             "outlinewidth": 0,
             "ticks": ""
            },
            "type": "choropleth"
           }
          ],
          "contour": [
           {
            "colorbar": {
             "outlinewidth": 0,
             "ticks": ""
            },
            "colorscale": [
             [
              0,
              "#0d0887"
             ],
             [
              0.1111111111111111,
              "#46039f"
             ],
             [
              0.2222222222222222,
              "#7201a8"
             ],
             [
              0.3333333333333333,
              "#9c179e"
             ],
             [
              0.4444444444444444,
              "#bd3786"
             ],
             [
              0.5555555555555556,
              "#d8576b"
             ],
             [
              0.6666666666666666,
              "#ed7953"
             ],
             [
              0.7777777777777778,
              "#fb9f3a"
             ],
             [
              0.8888888888888888,
              "#fdca26"
             ],
             [
              1,
              "#f0f921"
             ]
            ],
            "type": "contour"
           }
          ],
          "contourcarpet": [
           {
            "colorbar": {
             "outlinewidth": 0,
             "ticks": ""
            },
            "type": "contourcarpet"
           }
          ],
          "heatmap": [
           {
            "colorbar": {
             "outlinewidth": 0,
             "ticks": ""
            },
            "colorscale": [
             [
              0,
              "#0d0887"
             ],
             [
              0.1111111111111111,
              "#46039f"
             ],
             [
              0.2222222222222222,
              "#7201a8"
             ],
             [
              0.3333333333333333,
              "#9c179e"
             ],
             [
              0.4444444444444444,
              "#bd3786"
             ],
             [
              0.5555555555555556,
              "#d8576b"
             ],
             [
              0.6666666666666666,
              "#ed7953"
             ],
             [
              0.7777777777777778,
              "#fb9f3a"
             ],
             [
              0.8888888888888888,
              "#fdca26"
             ],
             [
              1,
              "#f0f921"
             ]
            ],
            "type": "heatmap"
           }
          ],
          "histogram": [
           {
            "marker": {
             "pattern": {
              "fillmode": "overlay",
              "size": 10,
              "solidity": 0.2
             }
            },
            "type": "histogram"
           }
          ],
          "histogram2d": [
           {
            "colorbar": {
             "outlinewidth": 0,
             "ticks": ""
            },
            "colorscale": [
             [
              0,
              "#0d0887"
             ],
             [
              0.1111111111111111,
              "#46039f"
             ],
             [
              0.2222222222222222,
              "#7201a8"
             ],
             [
              0.3333333333333333,
              "#9c179e"
             ],
             [
              0.4444444444444444,
              "#bd3786"
             ],
             [
              0.5555555555555556,
              "#d8576b"
             ],
             [
              0.6666666666666666,
              "#ed7953"
             ],
             [
              0.7777777777777778,
              "#fb9f3a"
             ],
             [
              0.8888888888888888,
              "#fdca26"
             ],
             [
              1,
              "#f0f921"
             ]
            ],
            "type": "histogram2d"
           }
          ],
          "histogram2dcontour": [
           {
            "colorbar": {
             "outlinewidth": 0,
             "ticks": ""
            },
            "colorscale": [
             [
              0,
              "#0d0887"
             ],
             [
              0.1111111111111111,
              "#46039f"
             ],
             [
              0.2222222222222222,
              "#7201a8"
             ],
             [
              0.3333333333333333,
              "#9c179e"
             ],
             [
              0.4444444444444444,
              "#bd3786"
             ],
             [
              0.5555555555555556,
              "#d8576b"
             ],
             [
              0.6666666666666666,
              "#ed7953"
             ],
             [
              0.7777777777777778,
              "#fb9f3a"
             ],
             [
              0.8888888888888888,
              "#fdca26"
             ],
             [
              1,
              "#f0f921"
             ]
            ],
            "type": "histogram2dcontour"
           }
          ],
          "mesh3d": [
           {
            "colorbar": {
             "outlinewidth": 0,
             "ticks": ""
            },
            "type": "mesh3d"
           }
          ],
          "parcoords": [
           {
            "line": {
             "colorbar": {
              "outlinewidth": 0,
              "ticks": ""
             }
            },
            "type": "parcoords"
           }
          ],
          "pie": [
           {
            "automargin": true,
            "type": "pie"
           }
          ],
          "scatter": [
           {
            "fillpattern": {
             "fillmode": "overlay",
             "size": 10,
             "solidity": 0.2
            },
            "type": "scatter"
           }
          ],
          "scatter3d": [
           {
            "line": {
             "colorbar": {
              "outlinewidth": 0,
              "ticks": ""
             }
            },
            "marker": {
             "colorbar": {
              "outlinewidth": 0,
              "ticks": ""
             }
            },
            "type": "scatter3d"
           }
          ],
          "scattercarpet": [
           {
            "marker": {
             "colorbar": {
              "outlinewidth": 0,
              "ticks": ""
             }
            },
            "type": "scattercarpet"
           }
          ],
          "scattergeo": [
           {
            "marker": {
             "colorbar": {
              "outlinewidth": 0,
              "ticks": ""
             }
            },
            "type": "scattergeo"
           }
          ],
          "scattergl": [
           {
            "marker": {
             "colorbar": {
              "outlinewidth": 0,
              "ticks": ""
             }
            },
            "type": "scattergl"
           }
          ],
          "scattermap": [
           {
            "marker": {
             "colorbar": {
              "outlinewidth": 0,
              "ticks": ""
             }
            },
            "type": "scattermap"
           }
          ],
          "scattermapbox": [
           {
            "marker": {
             "colorbar": {
              "outlinewidth": 0,
              "ticks": ""
             }
            },
            "type": "scattermapbox"
           }
          ],
          "scatterpolar": [
           {
            "marker": {
             "colorbar": {
              "outlinewidth": 0,
              "ticks": ""
             }
            },
            "type": "scatterpolar"
           }
          ],
          "scatterpolargl": [
           {
            "marker": {
             "colorbar": {
              "outlinewidth": 0,
              "ticks": ""
             }
            },
            "type": "scatterpolargl"
           }
          ],
          "scatterternary": [
           {
            "marker": {
             "colorbar": {
              "outlinewidth": 0,
              "ticks": ""
             }
            },
            "type": "scatterternary"
           }
          ],
          "surface": [
           {
            "colorbar": {
             "outlinewidth": 0,
             "ticks": ""
            },
            "colorscale": [
             [
              0,
              "#0d0887"
             ],
             [
              0.1111111111111111,
              "#46039f"
             ],
             [
              0.2222222222222222,
              "#7201a8"
             ],
             [
              0.3333333333333333,
              "#9c179e"
             ],
             [
              0.4444444444444444,
              "#bd3786"
             ],
             [
              0.5555555555555556,
              "#d8576b"
             ],
             [
              0.6666666666666666,
              "#ed7953"
             ],
             [
              0.7777777777777778,
              "#fb9f3a"
             ],
             [
              0.8888888888888888,
              "#fdca26"
             ],
             [
              1,
              "#f0f921"
             ]
            ],
            "type": "surface"
           }
          ],
          "table": [
           {
            "cells": {
             "fill": {
              "color": "#EBF0F8"
             },
             "line": {
              "color": "white"
             }
            },
            "header": {
             "fill": {
              "color": "#C8D4E3"
             },
             "line": {
              "color": "white"
             }
            },
            "type": "table"
           }
          ]
         },
         "layout": {
          "annotationdefaults": {
           "arrowcolor": "#2a3f5f",
           "arrowhead": 0,
           "arrowwidth": 1
          },
          "autotypenumbers": "strict",
          "coloraxis": {
           "colorbar": {
            "outlinewidth": 0,
            "ticks": ""
           }
          },
          "colorscale": {
           "diverging": [
            [
             0,
             "#8e0152"
            ],
            [
             0.1,
             "#c51b7d"
            ],
            [
             0.2,
             "#de77ae"
            ],
            [
             0.3,
             "#f1b6da"
            ],
            [
             0.4,
             "#fde0ef"
            ],
            [
             0.5,
             "#f7f7f7"
            ],
            [
             0.6,
             "#e6f5d0"
            ],
            [
             0.7,
             "#b8e186"
            ],
            [
             0.8,
             "#7fbc41"
            ],
            [
             0.9,
             "#4d9221"
            ],
            [
             1,
             "#276419"
            ]
           ],
           "sequential": [
            [
             0,
             "#0d0887"
            ],
            [
             0.1111111111111111,
             "#46039f"
            ],
            [
             0.2222222222222222,
             "#7201a8"
            ],
            [
             0.3333333333333333,
             "#9c179e"
            ],
            [
             0.4444444444444444,
             "#bd3786"
            ],
            [
             0.5555555555555556,
             "#d8576b"
            ],
            [
             0.6666666666666666,
             "#ed7953"
            ],
            [
             0.7777777777777778,
             "#fb9f3a"
            ],
            [
             0.8888888888888888,
             "#fdca26"
            ],
            [
             1,
             "#f0f921"
            ]
           ],
           "sequentialminus": [
            [
             0,
             "#0d0887"
            ],
            [
             0.1111111111111111,
             "#46039f"
            ],
            [
             0.2222222222222222,
             "#7201a8"
            ],
            [
             0.3333333333333333,
             "#9c179e"
            ],
            [
             0.4444444444444444,
             "#bd3786"
            ],
            [
             0.5555555555555556,
             "#d8576b"
            ],
            [
             0.6666666666666666,
             "#ed7953"
            ],
            [
             0.7777777777777778,
             "#fb9f3a"
            ],
            [
             0.8888888888888888,
             "#fdca26"
            ],
            [
             1,
             "#f0f921"
            ]
           ]
          },
          "colorway": [
           "#636efa",
           "#EF553B",
           "#00cc96",
           "#ab63fa",
           "#FFA15A",
           "#19d3f3",
           "#FF6692",
           "#B6E880",
           "#FF97FF",
           "#FECB52"
          ],
          "font": {
           "color": "#2a3f5f"
          },
          "geo": {
           "bgcolor": "white",
           "lakecolor": "white",
           "landcolor": "#E5ECF6",
           "showlakes": true,
           "showland": true,
           "subunitcolor": "white"
          },
          "hoverlabel": {
           "align": "left"
          },
          "hovermode": "closest",
          "mapbox": {
           "style": "light"
          },
          "paper_bgcolor": "white",
          "plot_bgcolor": "#E5ECF6",
          "polar": {
           "angularaxis": {
            "gridcolor": "white",
            "linecolor": "white",
            "ticks": ""
           },
           "bgcolor": "#E5ECF6",
           "radialaxis": {
            "gridcolor": "white",
            "linecolor": "white",
            "ticks": ""
           }
          },
          "scene": {
           "xaxis": {
            "backgroundcolor": "#E5ECF6",
            "gridcolor": "white",
            "gridwidth": 2,
            "linecolor": "white",
            "showbackground": true,
            "ticks": "",
            "zerolinecolor": "white"
           },
           "yaxis": {
            "backgroundcolor": "#E5ECF6",
            "gridcolor": "white",
            "gridwidth": 2,
            "linecolor": "white",
            "showbackground": true,
            "ticks": "",
            "zerolinecolor": "white"
           },
           "zaxis": {
            "backgroundcolor": "#E5ECF6",
            "gridcolor": "white",
            "gridwidth": 2,
            "linecolor": "white",
            "showbackground": true,
            "ticks": "",
            "zerolinecolor": "white"
           }
          },
          "shapedefaults": {
           "line": {
            "color": "#2a3f5f"
           }
          },
          "ternary": {
           "aaxis": {
            "gridcolor": "white",
            "linecolor": "white",
            "ticks": ""
           },
           "baxis": {
            "gridcolor": "white",
            "linecolor": "white",
            "ticks": ""
           },
           "bgcolor": "#E5ECF6",
           "caxis": {
            "gridcolor": "white",
            "linecolor": "white",
            "ticks": ""
           }
          },
          "title": {
           "x": 0.05
          },
          "xaxis": {
           "automargin": true,
           "gridcolor": "white",
           "linecolor": "white",
           "ticks": "",
           "title": {
            "standoff": 15
           },
           "zerolinecolor": "white",
           "zerolinewidth": 2
          },
          "yaxis": {
           "automargin": true,
           "gridcolor": "white",
           "linecolor": "white",
           "ticks": "",
           "title": {
            "standoff": 15
           },
           "zerolinecolor": "white",
           "zerolinewidth": 2
          }
         }
        },
        "title": {
         "text": "Capacidad de las Estaciones"
        }
       }
      }
     },
     "metadata": {},
     "output_type": "display_data"
    },
    {
     "data": {
      "application/vnd.plotly.v1+json": {
       "config": {
        "plotlyServerURL": "https://plot.ly"
       },
       "data": [
        {
         "customdata": [
          [
           "< 2293"
          ],
          [
           "< 2293"
          ],
          [
           "< 2293"
          ],
          [
           "< 2293"
          ],
          [
           "< 2293"
          ],
          [
           "< 2293"
          ],
          [
           "< 2293"
          ],
          [
           "< 2293"
          ],
          [
           "< 2293"
          ],
          [
           "< 2293"
          ],
          [
           "< 2293"
          ],
          [
           "< 2293"
          ],
          [
           "< 2293"
          ],
          [
           "< 2293"
          ],
          [
           "< 2293"
          ],
          [
           "< 2293"
          ],
          [
           "< 2293"
          ],
          [
           "< 2293"
          ],
          [
           "< 2293"
          ],
          [
           "< 2293"
          ],
          [
           "< 2293"
          ],
          [
           "< 2293"
          ],
          [
           "< 2293"
          ],
          [
           "< 2293"
          ],
          [
           "< 2293"
          ],
          [
           "< 2293"
          ],
          [
           "< 2293"
          ],
          [
           "< 2293"
          ],
          [
           "< 2293"
          ],
          [
           "< 2293"
          ],
          [
           "< 2293"
          ],
          [
           "< 2293"
          ],
          [
           "< 2293"
          ],
          [
           "< 2293"
          ],
          [
           "< 2293"
          ],
          [
           "< 2293"
          ],
          [
           "< 2293"
          ],
          [
           "< 2293"
          ],
          [
           "< 2293"
          ],
          [
           "< 2293"
          ],
          [
           "< 2293"
          ],
          [
           "< 2293"
          ],
          [
           "< 2293"
          ],
          [
           "< 2293"
          ],
          [
           "< 2293"
          ],
          [
           "< 2293"
          ],
          [
           "< 2293"
          ],
          [
           "< 2293"
          ],
          [
           "< 2293"
          ],
          [
           "< 2293"
          ],
          [
           "< 2293"
          ],
          [
           "< 2293"
          ],
          [
           "< 2293"
          ],
          [
           "< 2293"
          ],
          [
           "< 2293"
          ],
          [
           "< 2293"
          ],
          [
           "< 2293"
          ],
          [
           "< 2293"
          ],
          [
           "< 2293"
          ],
          [
           "< 2293"
          ],
          [
           "< 2293"
          ],
          [
           "< 2293"
          ],
          [
           "< 2293"
          ],
          [
           "< 2293"
          ],
          [
           "< 2293"
          ],
          [
           "< 2293"
          ],
          [
           "< 2293"
          ],
          [
           "< 2293"
          ],
          [
           "< 2293"
          ],
          [
           "< 2293"
          ],
          [
           "< 2293"
          ],
          [
           "< 2293"
          ],
          [
           "< 2293"
          ],
          [
           "< 2293"
          ],
          [
           "< 2293"
          ],
          [
           "< 2293"
          ],
          [
           "< 2293"
          ],
          [
           "< 2293"
          ],
          [
           "< 2293"
          ],
          [
           "< 2293"
          ],
          [
           "< 2293"
          ],
          [
           "< 2293"
          ],
          [
           "< 2293"
          ],
          [
           "< 2293"
          ],
          [
           "< 2293"
          ],
          [
           "< 2293"
          ],
          [
           "< 2293"
          ],
          [
           "< 2293"
          ],
          [
           "< 2293"
          ],
          [
           "< 2293"
          ],
          [
           "< 2293"
          ],
          [
           "< 2293"
          ],
          [
           "< 2293"
          ],
          [
           "< 2293"
          ],
          [
           "< 2293"
          ],
          [
           "< 2293"
          ],
          [
           "< 2293"
          ],
          [
           "< 2293"
          ],
          [
           "< 2293"
          ],
          [
           "< 2293"
          ],
          [
           "< 2293"
          ],
          [
           "< 2293"
          ],
          [
           "< 2293"
          ],
          [
           "< 2293"
          ],
          [
           "< 2293"
          ],
          [
           "< 2293"
          ],
          [
           "< 2293"
          ],
          [
           "< 2293"
          ],
          [
           "< 2293"
          ],
          [
           "< 2293"
          ],
          [
           "< 2293"
          ],
          [
           "< 2293"
          ],
          [
           "< 2293"
          ],
          [
           "< 2293"
          ],
          [
           "< 2293"
          ],
          [
           "< 2293"
          ],
          [
           "< 2293"
          ],
          [
           "< 2293"
          ],
          [
           "< 2293"
          ],
          [
           "< 2293"
          ],
          [
           "< 2293"
          ],
          [
           "< 2293"
          ],
          [
           "< 2293"
          ],
          [
           "< 2293"
          ],
          [
           "< 2293"
          ],
          [
           "< 2293"
          ],
          [
           "< 2293"
          ],
          [
           "< 2293"
          ],
          [
           "< 2293"
          ],
          [
           "< 2293"
          ],
          [
           "< 2293"
          ],
          [
           "< 2293"
          ],
          [
           "< 2293"
          ],
          [
           "< 2293"
          ],
          [
           "< 2293"
          ],
          [
           "< 2293"
          ],
          [
           "< 2293"
          ],
          [
           "< 2293"
          ],
          [
           "< 2293"
          ],
          [
           "< 2293"
          ],
          [
           "< 2293"
          ],
          [
           "< 2293"
          ],
          [
           "< 2293"
          ],
          [
           "< 2293"
          ],
          [
           "< 2293"
          ],
          [
           "< 2293"
          ],
          [
           "< 2293"
          ],
          [
           "< 2293"
          ],
          [
           "< 2293"
          ],
          [
           "< 2293"
          ],
          [
           "< 2293"
          ],
          [
           "< 2293"
          ],
          [
           "< 2293"
          ],
          [
           "< 2293"
          ],
          [
           "< 2293"
          ],
          [
           "< 2293"
          ],
          [
           "< 2293"
          ],
          [
           "< 2293"
          ],
          [
           "< 2293"
          ],
          [
           "< 2293"
          ],
          [
           "< 2293"
          ],
          [
           "< 2293"
          ],
          [
           "< 2293"
          ],
          [
           "< 2293"
          ],
          [
           "< 2293"
          ],
          [
           "< 2293"
          ],
          [
           "< 2293"
          ],
          [
           "< 2293"
          ],
          [
           "< 2293"
          ],
          [
           "< 2293"
          ],
          [
           "< 2293"
          ],
          [
           "< 2293"
          ],
          [
           "< 2293"
          ],
          [
           "< 2293"
          ],
          [
           "< 2293"
          ],
          [
           "< 2293"
          ],
          [
           "< 2293"
          ],
          [
           "< 2293"
          ],
          [
           "< 2293"
          ],
          [
           "< 2293"
          ],
          [
           "< 2293"
          ],
          [
           "< 2293"
          ],
          [
           "< 2293"
          ],
          [
           "< 2293"
          ],
          [
           "< 2293"
          ],
          [
           "< 2293"
          ],
          [
           "< 2293"
          ],
          [
           "< 2293"
          ],
          [
           "< 2293"
          ],
          [
           "< 2293"
          ],
          [
           "< 2293"
          ],
          [
           "< 2293"
          ],
          [
           "< 2293"
          ],
          [
           "< 2293"
          ],
          [
           "< 2293"
          ],
          [
           "< 2293"
          ],
          [
           "< 2293"
          ],
          [
           "< 2293"
          ],
          [
           "< 2293"
          ],
          [
           "< 2293"
          ],
          [
           "< 2293"
          ],
          [
           "< 2293"
          ],
          [
           "< 2293"
          ],
          [
           "< 2293"
          ],
          [
           "< 2293"
          ],
          [
           "< 2293"
          ],
          [
           "< 2293"
          ],
          [
           "< 2293"
          ],
          [
           "< 2293"
          ],
          [
           "< 2293"
          ],
          [
           "< 2293"
          ],
          [
           "< 2293"
          ],
          [
           "< 2293"
          ],
          [
           "< 2293"
          ],
          [
           "< 2293"
          ]
         ],
         "hovertemplate": "<b>%{hovertext}</b><br><br>total_trips_cat=%{customdata[0]}<br>total_trips=%{marker.size}<br>lat=%{lat}<br>long=%{lon}<extra></extra>",
         "hovertext": [
          "Aberdeen Place, St. John's Wood",
          "Albert Gate, Hyde Park",
          "Alderney Street, Pimlico",
          "Aldersgate Street, Barbican",
          "Argyle Street, Kings Cross",
          "Ashley Place, Victoria",
          "Baker Street, Marylebone",
          "Bankside Mix, Bankside",
          "Barbican Centre, Barbican",
          "Bath Street, St. Luke's",
          "Bell Street , Marylebone",
          "Black Prince Road, Vauxhall",
          "Borough Road, Elephant & Castle",
          "Boston Place, Marylebone",
          "Bourne Street, Belgravia",
          "Braham Street, Aldgate",
          "Brick Lane Market, Shoreditch",
          "Bricklayers Arms, Borough",
          "British Museum, Bloomsbury",
          "Brunswick Square, Bloomsbury",
          "Brushfield Street, Liverpool Street",
          "Bruton Street, Mayfair",
          "Buxton Street 1, Shoreditch",
          "Cadogan Gardens, Chelsea",
          "Calshot Street , King's Cross",
          "Cartwright Gardens , Bloomsbury",
          "Charlotte Street, Fitzrovia",
          "Chelsea Green, Chelsea",
          "Christopher Street, Liverpool Street",
          "City Road, Angel",
          "Clapham Common Station, Clapham Common",
          "Claremont Square, Angel",
          "Clerkenwell Green, Clerkenwell",
          "Cleveland Gardens, Bayswater",
          "Clifton Road, Maida Vale",
          "Cloudesley Road, Angel",
          "Columbia Road, Shoreditch",
          "Commercial Street, Shoreditch",
          "Cotton Garden Estate, Kennington",
          "Craven Street, Strand",
          "Crosswall, Tower",
          "Curlew Street, Shad Thames",
          "Devonshire Terrace, Bayswater",
          "Dickens Square, Borough",
          "Doric Way , Somers Town",
          "Dorset Square, Marylebone",
          "Drury Lane, Covent Garden",
          "East Road, Hoxton",
          "Eastbourne Mews, Paddington",
          "Elizabeth Bridge, Victoria",
          "Embankment (Savoy), Strand",
          "Empire Square, The Borough",
          "Endsleigh Gardens, Euston",
          "Euston Road, Euston",
          "Eversholt Street , Camden Town",
          "Falkirk Street, Hoxton",
          "Finsbury Leisure Centre, St. Luke's",
          "Fire Brigade Pier, Vauxhall",
          "Flood Street, Chelsea",
          "Frampton Street, Paddington",
          "Frith Street, Soho",
          "George Row, Bermondsey",
          "George Street, Marylebone",
          "Gloucester Road Station, South Kensington",
          "Gloucester Terrace, Bayswater",
          "Goswell Road (City Uni), Finsbury",
          "Graham Street, Angel",
          "Grosvenor Crescent, Belgravia",
          "Guilford Street , Bloomsbury",
          "Hampstead Road, Euston",
          "Hampton Street, Walworth",
          "Harrington Square 1, Camden Town",
          "Harrowby Street, Marylebone",
          "Hatton Garden, Holborn",
          "Hereford Road, Bayswater",
          "High Holborn , Covent Garden",
          "Holy Trinity Brompton, Knightsbridge",
          "Horseferry Road, Westminster",
          "Ilchester Place, Kensington",
          "Jewry Street, Aldgate",
          "Kennington Cross, Kennington",
          "Kennington Lane Rail Bridge, Vauxhall",
          "Kennington Road, Vauxhall",
          "Kensington Church Street, Kensington",
          "Kensington Gore, Knightsbridge",
          "Kensington Olympia Station, Olympia",
          "King Edward Walk, Waterloo",
          "Kingsway, Covent Garden",
          "Knightsbridge, Hyde Park",
          "LMU Commercial Road, Whitechapel",
          "Lambeth Road, Vauxhall",
          "Leman Street, Aldgate",
          "Leonard Circus , Shoreditch",
          "Lexham Gardens, Kensington",
          "Lisson Grove, St. John's Wood",
          "Little Argyll Street, West End",
          "Liverpool Road (N1 Centre), Angel",
          "Lollard Street, Vauxhall",
          "London Zoo Car Park, The Regent's Park",
          "London Zoo,  The Regent's Park",
          "Long Lane , Bermondsey",
          "Longford Street, The Regent's Park",
          "Lower Marsh, Waterloo",
          "Lower Thames Street, Monument",
          "Macclesfield Rd, St Lukes",
          "Maida Vale, Maida Vale",
          "Malet Street, Bloomsbury",
          "Mallory Street, Marylebone",
          "Millennium Hotel, Mayfair",
          "Milroy Walk, South Bank",
          "Montpelier Street, Knightsbridge",
          "Moorfields, Moorgate",
          "Murray Grove , Hoxton",
          "Museum of London, Barbican",
          "Natural History Museum, South Kensington",
          "Nesham Street, Wapping",
          "New Globe Walk, Bankside",
          "New Inn Yard, Shoreditch",
          "New North Road 2, Hoxton",
          "New Road 1 , Whitechapel",
          "Newgate Street , St. Paul's",
          "Northumberland Avenue, Strand",
          "Notting Hill Gate Station, Notting Hill",
          "Nutford Place, Marylebone",
          "Old Quebec Street, Marylebone",
          "Ontario Street, Elephant & Castle",
          "Orsett Terrace, Bayswater",
          "Pall Mall East, West End",
          "Park Lane , Hyde Park",
          "Park Road (Baker Street), The Regent's Park",
          "Park Street, Bankside",
          "Pembridge Villas, Notting Hill",
          "Phillimore Gardens, Kensington",
          "Pindar Street, Liverpool Street",
          "Pont Street, Knightsbridge",
          "Portland Place, Marylebone",
          "Poured Lines, Bankside",
          "Prince Albert Road, The Regent's Park",
          "Queen Mother Sports Centre, Victoria",
          "Queen Street 1, Bank",
          "Queen Victoria Street, St. Paul's",
          "Queen's Gate (Central), South Kensington",
          "Queen's Gate (North), Kensington",
          "Queen's Gate (South), South Kensington",
          "Queen's Gate, Kensington Gardens",
          "Queensway, Kensington Gardens",
          "Rampayne Street, Pimlico",
          "Red Lion Square, Holborn",
          "Regency Street, Westminster",
          "Risinghill Street, Angel",
          "Riverlight North, Nine Elms",
          "Roscoe Street, St. Luke's",
          "Royal College Street, Camden Town",
          "Royal London Hospital, Whitechapel",
          "Russell Square Station, Bloomsbury",
          "Sackville Street, Mayfair",
          "Sardinia Street, Holborn",
          "Scala Street, Fitzrovia",
          "Sedding Street, Sloane Square",
          "Serpentine Car Park, Hyde Park",
          "Shouldham Street, Marylebone",
          "Snow Hill, Farringdon",
          "Soho Square , Soho",
          "South Wharf Road, Paddington",
          "Southampton Street, Strand",
          "St. George Street, Mayfair",
          "St. George's Square, Pimlico",
          "St. James's Square, St. James's",
          "St. John's Wood Church, The Regent's Park",
          "St. John's Wood Road, St. John's Wood",
          "St. Mary Axe, Aldgate",
          "Stamford Street, South Bank",
          "Strand, Strand",
          "Sumner Place, South Kensington",
          "Sun Street, Liverpool Street",
          "Tachbrook Street, Victoria",
          "Tanner Street, Bermondsey",
          "Taviton Street, Bloomsbury",
          "The Tennis Courts, The Regent's Park",
          "Theobald's Road , Holborn",
          "Torrens Street, Angel",
          "Tower Gardens , Tower",
          "Tower Wharf, Bermondsey",
          "Triangle Car Park, Hyde Park",
          "Turquoise Island, Notting Hill",
          "Tysoe Street, Clerkenwell",
          "Union Street, The Borough",
          "Vauxhall Bridge , Pimlico",
          "Vauxhall Cross, Vauxhall",
          "Vauxhall Street, Vauxhall",
          "Vincent Square, Westminster",
          "Walnut Tree Walk, Vauxhall",
          "Wapping High Street, Wapping",
          "Wardour Street, Soho",
          "Warren Street Station, Euston",
          "Warwick Avenue Station, Maida Vale",
          "Warwick Road, Olympia",
          "Warwick Row, Westminster",
          "Waterloo Bridge, South Bank",
          "Waterloo Road, South Bank",
          "Waterloo Station 2, Waterloo",
          "Waterloo Station 3, Waterloo",
          "Wellington Arch, Hyde Park",
          "Wellington Road, St. John's Wood",
          "West Cromwell Road, Earl's Court",
          "West Smithfield Rotunda, Farringdon",
          "Westbourne Green, Westbourne",
          "Westminster University, Marylebone",
          "Whitehall Place, Strand",
          "William IV Street, Strand",
          "Windsor Terrace, Hoxton",
          "Wood Street, Guildhall",
          "Woodstock Street, Mayfair",
          "Wormwood Street, Liverpool Street",
          "Wright's Lane, Kensington"
         ],
         "lat": {
          "bdata": "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",
          "dtype": "f8"
         },
         "legendgroup": "< 2293",
         "lon": {
          "bdata": "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",
          "dtype": "f8"
         },
         "marker": {
          "color": "#660000",
          "size": {
           "bdata": "UwZKBogGGQiuBuUGMwd7B3EFdAhmBFIC4QR1B38GNgS4A38EuQimBgQIrAggBEwFOgdeBUMIyAaOBLIDxAQ6BucF2QUCCAoEkgRmB6sFSwibBpkDpwiABjYI0gPJCBcHpQLdBRwEgAUVBKsC9gUgBwgIZQWmBXwGlAM8B/ADPwOvBBsDDAZzBW4GbwicBI8FDwMxA1EH+AVKBasFSQRsBVsDigVPA1EHswb/AqYE+gZpCLwENgAPBOgEYQGHBRwGyAURBU8E7gYkByQDOAaCAi0CbQgzBlwIMAc+BHADmARuBtEE0QJ2AsAHtgSwB0oHVghlBwUHjAcxBSEEwggFB+MFdQfWBasCywfYBJwF9wSMCF4EfAV7B2kDfgPDA+0IHQcwBXYGvgUkBL4FtwZLBLEDGAXSBnkCqQddBiwGVwjLBSIG/wavA+gCZQgFA+YGoAYwBkIFJAMYAtwFBAfSB5MHDAOVAd0DmwRtByoHMgIfBCMDkQamB9IERwhvB14GjQKfBB8DGwivB1wEjQXwBdQFPQSxA38EPAZhA0wFPAVRB1UGFQU6BjIE3wQlCA==",
           "dtype": "i2"
          },
          "sizemode": "area",
          "sizeref": 49.986666666666665
         },
         "mode": "markers",
         "name": "< 2293",
         "showlegend": true,
         "subplot": "map",
         "type": "scattermap"
        },
        {
         "customdata": [
          [
           "4531 to 6770"
          ],
          [
           "4531 to 6770"
          ],
          [
           "4531 to 6770"
          ],
          [
           "4531 to 6770"
          ],
          [
           "4531 to 6770"
          ],
          [
           "4531 to 6770"
          ],
          [
           "4531 to 6770"
          ],
          [
           "4531 to 6770"
          ],
          [
           "4531 to 6770"
          ]
         ],
         "hovertemplate": "<b>%{hovertext}</b><br><br>total_trips_cat=%{customdata[0]}<br>total_trips=%{marker.size}<br>lat=%{lat}<br>long=%{lon}<extra></extra>",
         "hovertext": [
          "Albert Embankment, Vauxhall",
          "Chepstow Villas, Notting Hill",
          "Finsbury Library , Finsbury",
          "Marylebone Lane, Marylebone",
          "Old Street Station, St. Luke's",
          "Paddington Street, Marylebone",
          "St. John Street, Finsbury",
          "Tooley Street, Bermondsey",
          "Westbourne Grove, Bayswater"
         ],
         "lat": {
          "bdata": "6JEWmca+SUAjw8ezjcFJQDo1fn5rw0lAVhPApOPBSUC+pDFaR8NJQHdjg32iwklArecYTqHDSUCQXh58csBJQH9IpuD8wUlA",
          "dtype": "f8"
         },
         "legendgroup": "4531 to 6770",
         "lon": {
          "bdata": "xSu4O0Vwv7+If6iZjczJv3sJQ1RJs7q/hYvkRB71wr/+P6GNEqq2v1DtcX5BzcO/L/t1pzvPur9gCSCMCmK0v0M3y8rOWci/",
          "dtype": "f8"
         },
         "marker": {
          "color": "#E6B3B3",
          "size": {
           "bdata": "RRcuF0kSYRmhGHoTiRM1FqEX",
           "dtype": "i2"
          },
          "sizemode": "area",
          "sizeref": 49.986666666666665
         },
         "mode": "markers",
         "name": "4531 to 6770",
         "showlegend": true,
         "subplot": "map",
         "type": "scattermap"
        },
        {
         "customdata": [
          [
           "2293 to 4531"
          ],
          [
           "2293 to 4531"
          ],
          [
           "2293 to 4531"
          ],
          [
           "2293 to 4531"
          ],
          [
           "2293 to 4531"
          ],
          [
           "2293 to 4531"
          ],
          [
           "2293 to 4531"
          ],
          [
           "2293 to 4531"
          ],
          [
           "2293 to 4531"
          ],
          [
           "2293 to 4531"
          ],
          [
           "2293 to 4531"
          ],
          [
           "2293 to 4531"
          ],
          [
           "2293 to 4531"
          ],
          [
           "2293 to 4531"
          ],
          [
           "2293 to 4531"
          ],
          [
           "2293 to 4531"
          ],
          [
           "2293 to 4531"
          ],
          [
           "2293 to 4531"
          ],
          [
           "2293 to 4531"
          ],
          [
           "2293 to 4531"
          ],
          [
           "2293 to 4531"
          ],
          [
           "2293 to 4531"
          ],
          [
           "2293 to 4531"
          ],
          [
           "2293 to 4531"
          ],
          [
           "2293 to 4531"
          ],
          [
           "2293 to 4531"
          ],
          [
           "2293 to 4531"
          ],
          [
           "2293 to 4531"
          ],
          [
           "2293 to 4531"
          ],
          [
           "2293 to 4531"
          ],
          [
           "2293 to 4531"
          ],
          [
           "2293 to 4531"
          ],
          [
           "2293 to 4531"
          ],
          [
           "2293 to 4531"
          ],
          [
           "2293 to 4531"
          ],
          [
           "2293 to 4531"
          ],
          [
           "2293 to 4531"
          ],
          [
           "2293 to 4531"
          ],
          [
           "2293 to 4531"
          ],
          [
           "2293 to 4531"
          ],
          [
           "2293 to 4531"
          ],
          [
           "2293 to 4531"
          ],
          [
           "2293 to 4531"
          ],
          [
           "2293 to 4531"
          ],
          [
           "2293 to 4531"
          ],
          [
           "2293 to 4531"
          ],
          [
           "2293 to 4531"
          ],
          [
           "2293 to 4531"
          ],
          [
           "2293 to 4531"
          ],
          [
           "2293 to 4531"
          ],
          [
           "2293 to 4531"
          ],
          [
           "2293 to 4531"
          ],
          [
           "2293 to 4531"
          ],
          [
           "2293 to 4531"
          ],
          [
           "2293 to 4531"
          ],
          [
           "2293 to 4531"
          ],
          [
           "2293 to 4531"
          ],
          [
           "2293 to 4531"
          ],
          [
           "2293 to 4531"
          ],
          [
           "2293 to 4531"
          ],
          [
           "2293 to 4531"
          ],
          [
           "2293 to 4531"
          ],
          [
           "2293 to 4531"
          ],
          [
           "2293 to 4531"
          ],
          [
           "2293 to 4531"
          ],
          [
           "2293 to 4531"
          ],
          [
           "2293 to 4531"
          ],
          [
           "2293 to 4531"
          ],
          [
           "2293 to 4531"
          ],
          [
           "2293 to 4531"
          ],
          [
           "2293 to 4531"
          ],
          [
           "2293 to 4531"
          ],
          [
           "2293 to 4531"
          ],
          [
           "2293 to 4531"
          ]
         ],
         "hovertemplate": "<b>%{hovertext}</b><br><br>total_trips_cat=%{customdata[0]}<br>total_trips=%{marker.size}<br>lat=%{lat}<br>long=%{lon}<extra></extra>",
         "hovertext": [
          "Ampton Street , Clerkenwell",
          "Bank of England Museum, Bank",
          "Baylis Road, Waterloo",
          "Bayswater Road, Hyde Park",
          "Bedford Way, Bloomsbury",
          "Belgrave Road, Victoria",
          "Belvedere Road 1, South Bank",
          "Bermondsey Street, Bermondsey",
          "Berry Street, Clerkenwell",
          "Bethnal Green Road, Shoreditch",
          "Black Lion Gate, Kensington Gardens",
          "Bolsover Street, Fitzrovia",
          "Borough High Street, The Borough",
          "Bramham Gardens, Earl's Court",
          "Broadcasting House, Marylebone",
          "Bunhill Row, Moorgate",
          "Butler Place, Westminster",
          "Carey Street, Holborn",
          "Chapel Place, Marylebone",
          "Charlbert Street, St. John's Wood",
          "Claverton Street, Pimlico",
          "Clifford Street, Mayfair",
          "Crawford Street, Marylebone",
          "Drummond Street , Euston",
          "Earnshaw Street , Covent Garden",
          "Edgware Road Station, Marylebone",
          "Emperor's Gate, South Kensington",
          "Farm Street, Mayfair",
          "Finsbury Circus, Liverpool Street",
          "Finsbury Square , Moorgate",
          "Gloucester Street, Pimlico",
          "Godliman Street, St. Paul's",
          "Golden Lane, Barbican",
          "Gower Place , Euston",
          "Great Dover Street, The Borough",
          "Great Russell Street, Bloomsbury",
          "Grosvenor Road, Pimlico",
          "Hardwick Street, Clerkenwell",
          "Harper Road, The Borough",
          "Harriet Street, Knightsbridge",
          "Hatton Wall, Holborn",
          "Holborn Circus, Holborn",
          "Hop Exchange, The Borough",
          "Howick Place, Westminster",
          "Howland Street, Fitzrovia",
          "Hyde Park Corner, Hyde Park",
          "Imperial College, Knightsbridge",
          "Kennington Road Post Office, Oval",
          "LSBU (Borough Road), Elephant & Castle",
          "Lambeth North Station, Waterloo",
          "Millbank Tower, Pimlico",
          "Nevern Place, Earl's Court",
          "New Kent Road, The Borough",
          "North Audley Street, Mayfair",
          "North Wharf Road, Paddington",
          "Norton Folgate, Liverpool Street",
          "Paddington Green, Paddington",
          "Palace Gardens Terrace, Notting Hill",
          "Palace Gate, Kensington Gardens",
          "River Street , Clerkenwell",
          "Seville Street, Knightsbridge",
          "Shoreditch Park, Hoxton",
          "South Kensington Station, South Kensington",
          "Southampton Place, Holborn",
          "St. Chad's Street, King's Cross",
          "St. Martin's Street, West End",
          "Swan Street, The Borough",
          "Tavistock Street, Covent Garden",
          "The Guildhall, Guildhall",
          "Trebovir Road, Earl's Court",
          "Waterloo Station 1, Waterloo",
          "Wellington Street , Strand",
          "Wenlock Road , Hoxton",
          "Worship Street, Shoreditch"
         ],
         "lat": {
          "bdata": "xhMH8X3DSUBVgb022cFJQIP62FUvwElAIF9CBYfBSUD8C7G4B8NJQO9+y1Ihv0lA+JtY+cjASUAkl2K7ub9JQFdI8djswklADjUj5gbDSUCnjW6tRMFJQHw79KMCw0lAodxTxRbASUDVUWGuvb5JQBgjda9RwklAoj3igKvCSUBOAqPkuL9JQGptGtvrwUlAyg47nfXBSUAgpYb0Y8RJQG+f8jsPvklAypqBX13BSUBftTLhl8JJQE4qGmt/w0lAzr/hLhDCSUC3e7lPjsJJQLMv0Qdov0lAS07UbzLBSUDcQj6FL8JJQFOrM+euwklAdFSg3Ne+SUCyOigXmcFJQBBBMKLIwklAiSfcpzrDSUC1Buc6qr9JQHgNG+FEwklAZ3BKLyC+SUBX935ZkMNJQABU1A3Sv0lALKuf7QfASUDKy1DLxcJJQHpA8jFMwklAytoJo5fASUD7BHGalb9JQMS0b+6vwklAJYqYK2bASUAneFRG7b9JQGTBzJANvklARU2y3da/SUA4+hTX479JQIL8zw72vklACnMO4CW/SUAKVPevSb9JQMJdBxinwUlACfoLPWLCSUAhBnjas8JJQJsb0xOWwklAEK+p+xnBSUArp7nsQsBJQKbx6qC7w0lAdt3fyTzASUDX+uCEW8RJQP5fdeRIv0lAwXf28EDCSUBtfnD82MNJQAg6OccpwUlAN+GgtQnASUBJuRwriMFJQIFYmZ0DwklAUlwbS9S+SUD+SM/8g8BJQL6bVTyBwUlAajIlivfDSUBTr1sExsJJQA==",
          "dtype": "f8"
         },
         "legendgroup": "2293 to 4531",
         "lon": {
          "bdata": "GL1snpdIvr/RtmeEIWy2v7ZE2DfKVry/HQWIghlTxr+bKYn5rW7Av3KkMzDycsK/VBjfQBZcvb8rkV3MQ+S0vyBwIs81mbm/Euh0oiIjs7+sRCfrOgvIv8FfrYnuYcK/nhvI6r4yuL+/LqJx0V7Iv31PhIsXdsK/01eI9eMCt78BSxv/H1bBv4umiBNl3by/kSNMOpLXwr/oJ+ZqdYPFvyvXnALnrMG/FWw6OmI4wr8Emp1/mh7EvxIXHRwuasG/mGofWHl1wL91BduIJ7vFv9kwJNbLt8e/uXstpqHfwr+YEO0PBjG2v67Iziwg7LW/QFJYajzfwb+lFQrRVGG5v4z5hrCEL7i/kCX/1dtNwb9IkBfA/uW2vyZQc9uGXcC/Bx4S0Nozwr+E0ryIW6q7v5f1sW77n7i/ZTFWQEZlxL8zoe6o1ue7v7bEnDD50Lu/9uiMdnx+t78t5NJ3BcLBv0d0z7pGy8G/kcWJ8ZKmw7+cEbegfQDHv5QbDSy8Vby/Uk7SAetmur9BfZtjGK68v4CMLcIcFsC/EafLFtTtyL8G/sd0rsm3v5i0P9anqsO//g+wVu2axr89TDDZzjC0v8gljjwQWca/tLojA0PNyL9p+0grbZrHv5En/UgHJ7y/7E2ac+FhxL8OgI0r+xy2v8qoMoy7Qca/+Ixv6GAPv78wb1etIfi+vyDAzr/wmcC/evH360u/t79LMOuxbOe+v7jysFUk1Le/mPTM0hscyb/ARWH2Nia9vyTvQpHzoL6/hCRYwRQKuL8Ab+nnOWG0vw==",
          "dtype": "f8"
         },
         "marker": {
          "color": "#CC3333",
          "size": {
           "bdata": "Ig3zCWYJrgwZCgoJ+AgHCbEMAwqWDrYMJQnmDH8PRhC3CiQJiQtmCn0JVQktDjALzxBYCR8KdQ0+DMwJTQpMDzYORBD2CcsJig2xCiEMAAklDFsRlhHhDdkJqQmIDfQKlA52D58PcxEvCbAKXQ3/CG4OPgs9CnwMMAznCUIJKgmBCtcJTQuYCqoNIwkBCUkJBA9hCQ==",
           "dtype": "i2"
          },
          "sizemode": "area",
          "sizeref": 49.986666666666665
         },
         "mode": "markers",
         "name": "2293 to 4531",
         "showlegend": true,
         "subplot": "map",
         "type": "scattermap"
        },
        {
         "customdata": [
          [
           "> 9008"
          ],
          [
           "> 9008"
          ]
         ],
         "hovertemplate": "<b>%{hovertext}</b><br><br>total_trips_cat=%{customdata[0]}<br>total_trips=%{marker.size}<br>lat=%{lat}<br>long=%{lon}<extra></extra>",
         "hovertext": [
          "Great Tower Street, Monument",
          "Grove End Road, St. John's Wood"
         ],
         "lat": {
          "bdata": "etOhkVfBSUC5BaYu9MNJQA==",
          "dtype": "f8"
         },
         "legendgroup": "> 9008",
         "lon": {
          "bdata": "xusdFc8+tb98Zn5yaqDGvw==",
          "dtype": "f8"
         },
         "marker": {
          "color": "#004D00",
          "size": {
           "bdata": "ZybvKw==",
           "dtype": "i2"
          },
          "sizemode": "area",
          "sizeref": 49.986666666666665
         },
         "mode": "markers",
         "name": "> 9008",
         "showlegend": true,
         "subplot": "map",
         "type": "scattermap"
        }
       ],
       "layout": {
        "legend": {
         "itemsizing": "constant",
         "title": {
          "text": "total_trips_cat"
         },
         "tracegroupgap": 0
        },
        "map": {
         "center": {
          "lat": 51.51149450144678,
          "lon": -0.12971500170708067
         },
         "domain": {
          "x": [
           0,
           1
          ],
          "y": [
           0,
           1
          ]
         },
         "zoom": 12
        },
        "mapbox": {
         "center": {
          "lat": 51.51149450144678,
          "lon": -0.12971500170708067
         },
         "zoom": 12
        },
        "template": {
         "data": {
          "bar": [
           {
            "error_x": {
             "color": "#2a3f5f"
            },
            "error_y": {
             "color": "#2a3f5f"
            },
            "marker": {
             "line": {
              "color": "#E5ECF6",
              "width": 0.5
             },
             "pattern": {
              "fillmode": "overlay",
              "size": 10,
              "solidity": 0.2
             }
            },
            "type": "bar"
           }
          ],
          "barpolar": [
           {
            "marker": {
             "line": {
              "color": "#E5ECF6",
              "width": 0.5
             },
             "pattern": {
              "fillmode": "overlay",
              "size": 10,
              "solidity": 0.2
             }
            },
            "type": "barpolar"
           }
          ],
          "carpet": [
           {
            "aaxis": {
             "endlinecolor": "#2a3f5f",
             "gridcolor": "white",
             "linecolor": "white",
             "minorgridcolor": "white",
             "startlinecolor": "#2a3f5f"
            },
            "baxis": {
             "endlinecolor": "#2a3f5f",
             "gridcolor": "white",
             "linecolor": "white",
             "minorgridcolor": "white",
             "startlinecolor": "#2a3f5f"
            },
            "type": "carpet"
           }
          ],
          "choropleth": [
           {
            "colorbar": {
             "outlinewidth": 0,
             "ticks": ""
            },
            "type": "choropleth"
           }
          ],
          "contour": [
           {
            "colorbar": {
             "outlinewidth": 0,
             "ticks": ""
            },
            "colorscale": [
             [
              0,
              "#0d0887"
             ],
             [
              0.1111111111111111,
              "#46039f"
             ],
             [
              0.2222222222222222,
              "#7201a8"
             ],
             [
              0.3333333333333333,
              "#9c179e"
             ],
             [
              0.4444444444444444,
              "#bd3786"
             ],
             [
              0.5555555555555556,
              "#d8576b"
             ],
             [
              0.6666666666666666,
              "#ed7953"
             ],
             [
              0.7777777777777778,
              "#fb9f3a"
             ],
             [
              0.8888888888888888,
              "#fdca26"
             ],
             [
              1,
              "#f0f921"
             ]
            ],
            "type": "contour"
           }
          ],
          "contourcarpet": [
           {
            "colorbar": {
             "outlinewidth": 0,
             "ticks": ""
            },
            "type": "contourcarpet"
           }
          ],
          "heatmap": [
           {
            "colorbar": {
             "outlinewidth": 0,
             "ticks": ""
            },
            "colorscale": [
             [
              0,
              "#0d0887"
             ],
             [
              0.1111111111111111,
              "#46039f"
             ],
             [
              0.2222222222222222,
              "#7201a8"
             ],
             [
              0.3333333333333333,
              "#9c179e"
             ],
             [
              0.4444444444444444,
              "#bd3786"
             ],
             [
              0.5555555555555556,
              "#d8576b"
             ],
             [
              0.6666666666666666,
              "#ed7953"
             ],
             [
              0.7777777777777778,
              "#fb9f3a"
             ],
             [
              0.8888888888888888,
              "#fdca26"
             ],
             [
              1,
              "#f0f921"
             ]
            ],
            "type": "heatmap"
           }
          ],
          "histogram": [
           {
            "marker": {
             "pattern": {
              "fillmode": "overlay",
              "size": 10,
              "solidity": 0.2
             }
            },
            "type": "histogram"
           }
          ],
          "histogram2d": [
           {
            "colorbar": {
             "outlinewidth": 0,
             "ticks": ""
            },
            "colorscale": [
             [
              0,
              "#0d0887"
             ],
             [
              0.1111111111111111,
              "#46039f"
             ],
             [
              0.2222222222222222,
              "#7201a8"
             ],
             [
              0.3333333333333333,
              "#9c179e"
             ],
             [
              0.4444444444444444,
              "#bd3786"
             ],
             [
              0.5555555555555556,
              "#d8576b"
             ],
             [
              0.6666666666666666,
              "#ed7953"
             ],
             [
              0.7777777777777778,
              "#fb9f3a"
             ],
             [
              0.8888888888888888,
              "#fdca26"
             ],
             [
              1,
              "#f0f921"
             ]
            ],
            "type": "histogram2d"
           }
          ],
          "histogram2dcontour": [
           {
            "colorbar": {
             "outlinewidth": 0,
             "ticks": ""
            },
            "colorscale": [
             [
              0,
              "#0d0887"
             ],
             [
              0.1111111111111111,
              "#46039f"
             ],
             [
              0.2222222222222222,
              "#7201a8"
             ],
             [
              0.3333333333333333,
              "#9c179e"
             ],
             [
              0.4444444444444444,
              "#bd3786"
             ],
             [
              0.5555555555555556,
              "#d8576b"
             ],
             [
              0.6666666666666666,
              "#ed7953"
             ],
             [
              0.7777777777777778,
              "#fb9f3a"
             ],
             [
              0.8888888888888888,
              "#fdca26"
             ],
             [
              1,
              "#f0f921"
             ]
            ],
            "type": "histogram2dcontour"
           }
          ],
          "mesh3d": [
           {
            "colorbar": {
             "outlinewidth": 0,
             "ticks": ""
            },
            "type": "mesh3d"
           }
          ],
          "parcoords": [
           {
            "line": {
             "colorbar": {
              "outlinewidth": 0,
              "ticks": ""
             }
            },
            "type": "parcoords"
           }
          ],
          "pie": [
           {
            "automargin": true,
            "type": "pie"
           }
          ],
          "scatter": [
           {
            "fillpattern": {
             "fillmode": "overlay",
             "size": 10,
             "solidity": 0.2
            },
            "type": "scatter"
           }
          ],
          "scatter3d": [
           {
            "line": {
             "colorbar": {
              "outlinewidth": 0,
              "ticks": ""
             }
            },
            "marker": {
             "colorbar": {
              "outlinewidth": 0,
              "ticks": ""
             }
            },
            "type": "scatter3d"
           }
          ],
          "scattercarpet": [
           {
            "marker": {
             "colorbar": {
              "outlinewidth": 0,
              "ticks": ""
             }
            },
            "type": "scattercarpet"
           }
          ],
          "scattergeo": [
           {
            "marker": {
             "colorbar": {
              "outlinewidth": 0,
              "ticks": ""
             }
            },
            "type": "scattergeo"
           }
          ],
          "scattergl": [
           {
            "marker": {
             "colorbar": {
              "outlinewidth": 0,
              "ticks": ""
             }
            },
            "type": "scattergl"
           }
          ],
          "scattermap": [
           {
            "marker": {
             "colorbar": {
              "outlinewidth": 0,
              "ticks": ""
             }
            },
            "type": "scattermap"
           }
          ],
          "scattermapbox": [
           {
            "marker": {
             "colorbar": {
              "outlinewidth": 0,
              "ticks": ""
             }
            },
            "type": "scattermapbox"
           }
          ],
          "scatterpolar": [
           {
            "marker": {
             "colorbar": {
              "outlinewidth": 0,
              "ticks": ""
             }
            },
            "type": "scatterpolar"
           }
          ],
          "scatterpolargl": [
           {
            "marker": {
             "colorbar": {
              "outlinewidth": 0,
              "ticks": ""
             }
            },
            "type": "scatterpolargl"
           }
          ],
          "scatterternary": [
           {
            "marker": {
             "colorbar": {
              "outlinewidth": 0,
              "ticks": ""
             }
            },
            "type": "scatterternary"
           }
          ],
          "surface": [
           {
            "colorbar": {
             "outlinewidth": 0,
             "ticks": ""
            },
            "colorscale": [
             [
              0,
              "#0d0887"
             ],
             [
              0.1111111111111111,
              "#46039f"
             ],
             [
              0.2222222222222222,
              "#7201a8"
             ],
             [
              0.3333333333333333,
              "#9c179e"
             ],
             [
              0.4444444444444444,
              "#bd3786"
             ],
             [
              0.5555555555555556,
              "#d8576b"
             ],
             [
              0.6666666666666666,
              "#ed7953"
             ],
             [
              0.7777777777777778,
              "#fb9f3a"
             ],
             [
              0.8888888888888888,
              "#fdca26"
             ],
             [
              1,
              "#f0f921"
             ]
            ],
            "type": "surface"
           }
          ],
          "table": [
           {
            "cells": {
             "fill": {
              "color": "#EBF0F8"
             },
             "line": {
              "color": "white"
             }
            },
            "header": {
             "fill": {
              "color": "#C8D4E3"
             },
             "line": {
              "color": "white"
             }
            },
            "type": "table"
           }
          ]
         },
         "layout": {
          "annotationdefaults": {
           "arrowcolor": "#2a3f5f",
           "arrowhead": 0,
           "arrowwidth": 1
          },
          "autotypenumbers": "strict",
          "coloraxis": {
           "colorbar": {
            "outlinewidth": 0,
            "ticks": ""
           }
          },
          "colorscale": {
           "diverging": [
            [
             0,
             "#8e0152"
            ],
            [
             0.1,
             "#c51b7d"
            ],
            [
             0.2,
             "#de77ae"
            ],
            [
             0.3,
             "#f1b6da"
            ],
            [
             0.4,
             "#fde0ef"
            ],
            [
             0.5,
             "#f7f7f7"
            ],
            [
             0.6,
             "#e6f5d0"
            ],
            [
             0.7,
             "#b8e186"
            ],
            [
             0.8,
             "#7fbc41"
            ],
            [
             0.9,
             "#4d9221"
            ],
            [
             1,
             "#276419"
            ]
           ],
           "sequential": [
            [
             0,
             "#0d0887"
            ],
            [
             0.1111111111111111,
             "#46039f"
            ],
            [
             0.2222222222222222,
             "#7201a8"
            ],
            [
             0.3333333333333333,
             "#9c179e"
            ],
            [
             0.4444444444444444,
             "#bd3786"
            ],
            [
             0.5555555555555556,
             "#d8576b"
            ],
            [
             0.6666666666666666,
             "#ed7953"
            ],
            [
             0.7777777777777778,
             "#fb9f3a"
            ],
            [
             0.8888888888888888,
             "#fdca26"
            ],
            [
             1,
             "#f0f921"
            ]
           ],
           "sequentialminus": [
            [
             0,
             "#0d0887"
            ],
            [
             0.1111111111111111,
             "#46039f"
            ],
            [
             0.2222222222222222,
             "#7201a8"
            ],
            [
             0.3333333333333333,
             "#9c179e"
            ],
            [
             0.4444444444444444,
             "#bd3786"
            ],
            [
             0.5555555555555556,
             "#d8576b"
            ],
            [
             0.6666666666666666,
             "#ed7953"
            ],
            [
             0.7777777777777778,
             "#fb9f3a"
            ],
            [
             0.8888888888888888,
             "#fdca26"
            ],
            [
             1,
             "#f0f921"
            ]
           ]
          },
          "colorway": [
           "#636efa",
           "#EF553B",
           "#00cc96",
           "#ab63fa",
           "#FFA15A",
           "#19d3f3",
           "#FF6692",
           "#B6E880",
           "#FF97FF",
           "#FECB52"
          ],
          "font": {
           "color": "#2a3f5f"
          },
          "geo": {
           "bgcolor": "white",
           "lakecolor": "white",
           "landcolor": "#E5ECF6",
           "showlakes": true,
           "showland": true,
           "subunitcolor": "white"
          },
          "hoverlabel": {
           "align": "left"
          },
          "hovermode": "closest",
          "mapbox": {
           "style": "light"
          },
          "paper_bgcolor": "white",
          "plot_bgcolor": "#E5ECF6",
          "polar": {
           "angularaxis": {
            "gridcolor": "white",
            "linecolor": "white",
            "ticks": ""
           },
           "bgcolor": "#E5ECF6",
           "radialaxis": {
            "gridcolor": "white",
            "linecolor": "white",
            "ticks": ""
           }
          },
          "scene": {
           "xaxis": {
            "backgroundcolor": "#E5ECF6",
            "gridcolor": "white",
            "gridwidth": 2,
            "linecolor": "white",
            "showbackground": true,
            "ticks": "",
            "zerolinecolor": "white"
           },
           "yaxis": {
            "backgroundcolor": "#E5ECF6",
            "gridcolor": "white",
            "gridwidth": 2,
            "linecolor": "white",
            "showbackground": true,
            "ticks": "",
            "zerolinecolor": "white"
           },
           "zaxis": {
            "backgroundcolor": "#E5ECF6",
            "gridcolor": "white",
            "gridwidth": 2,
            "linecolor": "white",
            "showbackground": true,
            "ticks": "",
            "zerolinecolor": "white"
           }
          },
          "shapedefaults": {
           "line": {
            "color": "#2a3f5f"
           }
          },
          "ternary": {
           "aaxis": {
            "gridcolor": "white",
            "linecolor": "white",
            "ticks": ""
           },
           "baxis": {
            "gridcolor": "white",
            "linecolor": "white",
            "ticks": ""
           },
           "bgcolor": "#E5ECF6",
           "caxis": {
            "gridcolor": "white",
            "linecolor": "white",
            "ticks": ""
           }
          },
          "title": {
           "x": 0.05
          },
          "xaxis": {
           "automargin": true,
           "gridcolor": "white",
           "linecolor": "white",
           "ticks": "",
           "title": {
            "standoff": 15
           },
           "zerolinecolor": "white",
           "zerolinewidth": 2
          },
          "yaxis": {
           "automargin": true,
           "gridcolor": "white",
           "linecolor": "white",
           "ticks": "",
           "title": {
            "standoff": 15
           },
           "zerolinecolor": "white",
           "zerolinewidth": 2
          }
         }
        },
        "title": {
         "text": "Viajes Totales por Estación"
        }
       }
      }
     },
     "metadata": {},
     "output_type": "display_data"
    },
    {
     "data": {
      "application/vnd.plotly.v1+json": {
       "config": {
        "plotlyServerURL": "https://plot.ly"
       },
       "data": [
        {
         "customdata": [
          [
           "-191 to 160"
          ],
          [
           "-191 to 160"
          ],
          [
           "-191 to 160"
          ],
          [
           "-191 to 160"
          ],
          [
           "-191 to 160"
          ],
          [
           "-191 to 160"
          ],
          [
           "-191 to 160"
          ],
          [
           "-191 to 160"
          ],
          [
           "-191 to 160"
          ],
          [
           "-191 to 160"
          ],
          [
           "-191 to 160"
          ],
          [
           "-191 to 160"
          ],
          [
           "-191 to 160"
          ],
          [
           "-191 to 160"
          ],
          [
           "-191 to 160"
          ],
          [
           "-191 to 160"
          ],
          [
           "-191 to 160"
          ],
          [
           "-191 to 160"
          ],
          [
           "-191 to 160"
          ],
          [
           "-191 to 160"
          ],
          [
           "-191 to 160"
          ],
          [
           "-191 to 160"
          ],
          [
           "-191 to 160"
          ],
          [
           "-191 to 160"
          ],
          [
           "-191 to 160"
          ],
          [
           "-191 to 160"
          ],
          [
           "-191 to 160"
          ],
          [
           "-191 to 160"
          ],
          [
           "-191 to 160"
          ],
          [
           "-191 to 160"
          ],
          [
           "-191 to 160"
          ],
          [
           "-191 to 160"
          ],
          [
           "-191 to 160"
          ],
          [
           "-191 to 160"
          ],
          [
           "-191 to 160"
          ],
          [
           "-191 to 160"
          ],
          [
           "-191 to 160"
          ],
          [
           "-191 to 160"
          ],
          [
           "-191 to 160"
          ],
          [
           "-191 to 160"
          ],
          [
           "-191 to 160"
          ],
          [
           "-191 to 160"
          ],
          [
           "-191 to 160"
          ],
          [
           "-191 to 160"
          ],
          [
           "-191 to 160"
          ],
          [
           "-191 to 160"
          ],
          [
           "-191 to 160"
          ],
          [
           "-191 to 160"
          ],
          [
           "-191 to 160"
          ],
          [
           "-191 to 160"
          ],
          [
           "-191 to 160"
          ],
          [
           "-191 to 160"
          ],
          [
           "-191 to 160"
          ],
          [
           "-191 to 160"
          ],
          [
           "-191 to 160"
          ],
          [
           "-191 to 160"
          ],
          [
           "-191 to 160"
          ],
          [
           "-191 to 160"
          ],
          [
           "-191 to 160"
          ],
          [
           "-191 to 160"
          ],
          [
           "-191 to 160"
          ],
          [
           "-191 to 160"
          ],
          [
           "-191 to 160"
          ],
          [
           "-191 to 160"
          ],
          [
           "-191 to 160"
          ],
          [
           "-191 to 160"
          ],
          [
           "-191 to 160"
          ],
          [
           "-191 to 160"
          ],
          [
           "-191 to 160"
          ],
          [
           "-191 to 160"
          ],
          [
           "-191 to 160"
          ],
          [
           "-191 to 160"
          ],
          [
           "-191 to 160"
          ],
          [
           "-191 to 160"
          ],
          [
           "-191 to 160"
          ],
          [
           "-191 to 160"
          ],
          [
           "-191 to 160"
          ],
          [
           "-191 to 160"
          ],
          [
           "-191 to 160"
          ],
          [
           "-191 to 160"
          ],
          [
           "-191 to 160"
          ],
          [
           "-191 to 160"
          ],
          [
           "-191 to 160"
          ],
          [
           "-191 to 160"
          ],
          [
           "-191 to 160"
          ],
          [
           "-191 to 160"
          ],
          [
           "-191 to 160"
          ],
          [
           "-191 to 160"
          ],
          [
           "-191 to 160"
          ],
          [
           "-191 to 160"
          ],
          [
           "-191 to 160"
          ],
          [
           "-191 to 160"
          ],
          [
           "-191 to 160"
          ],
          [
           "-191 to 160"
          ],
          [
           "-191 to 160"
          ],
          [
           "-191 to 160"
          ],
          [
           "-191 to 160"
          ],
          [
           "-191 to 160"
          ],
          [
           "-191 to 160"
          ],
          [
           "-191 to 160"
          ],
          [
           "-191 to 160"
          ],
          [
           "-191 to 160"
          ],
          [
           "-191 to 160"
          ],
          [
           "-191 to 160"
          ],
          [
           "-191 to 160"
          ],
          [
           "-191 to 160"
          ],
          [
           "-191 to 160"
          ],
          [
           "-191 to 160"
          ],
          [
           "-191 to 160"
          ],
          [
           "-191 to 160"
          ],
          [
           "-191 to 160"
          ],
          [
           "-191 to 160"
          ],
          [
           "-191 to 160"
          ],
          [
           "-191 to 160"
          ],
          [
           "-191 to 160"
          ],
          [
           "-191 to 160"
          ],
          [
           "-191 to 160"
          ],
          [
           "-191 to 160"
          ],
          [
           "-191 to 160"
          ],
          [
           "-191 to 160"
          ],
          [
           "-191 to 160"
          ],
          [
           "-191 to 160"
          ],
          [
           "-191 to 160"
          ],
          [
           "-191 to 160"
          ],
          [
           "-191 to 160"
          ],
          [
           "-191 to 160"
          ],
          [
           "-191 to 160"
          ],
          [
           "-191 to 160"
          ],
          [
           "-191 to 160"
          ],
          [
           "-191 to 160"
          ],
          [
           "-191 to 160"
          ],
          [
           "-191 to 160"
          ],
          [
           "-191 to 160"
          ],
          [
           "-191 to 160"
          ],
          [
           "-191 to 160"
          ],
          [
           "-191 to 160"
          ],
          [
           "-191 to 160"
          ],
          [
           "-191 to 160"
          ],
          [
           "-191 to 160"
          ],
          [
           "-191 to 160"
          ],
          [
           "-191 to 160"
          ],
          [
           "-191 to 160"
          ],
          [
           "-191 to 160"
          ],
          [
           "-191 to 160"
          ],
          [
           "-191 to 160"
          ],
          [
           "-191 to 160"
          ],
          [
           "-191 to 160"
          ],
          [
           "-191 to 160"
          ],
          [
           "-191 to 160"
          ],
          [
           "-191 to 160"
          ],
          [
           "-191 to 160"
          ],
          [
           "-191 to 160"
          ],
          [
           "-191 to 160"
          ],
          [
           "-191 to 160"
          ],
          [
           "-191 to 160"
          ],
          [
           "-191 to 160"
          ],
          [
           "-191 to 160"
          ],
          [
           "-191 to 160"
          ],
          [
           "-191 to 160"
          ],
          [
           "-191 to 160"
          ],
          [
           "-191 to 160"
          ],
          [
           "-191 to 160"
          ],
          [
           "-191 to 160"
          ],
          [
           "-191 to 160"
          ],
          [
           "-191 to 160"
          ],
          [
           "-191 to 160"
          ],
          [
           "-191 to 160"
          ],
          [
           "-191 to 160"
          ],
          [
           "-191 to 160"
          ],
          [
           "-191 to 160"
          ],
          [
           "-191 to 160"
          ],
          [
           "-191 to 160"
          ],
          [
           "-191 to 160"
          ],
          [
           "-191 to 160"
          ],
          [
           "-191 to 160"
          ],
          [
           "-191 to 160"
          ],
          [
           "-191 to 160"
          ],
          [
           "-191 to 160"
          ],
          [
           "-191 to 160"
          ],
          [
           "-191 to 160"
          ],
          [
           "-191 to 160"
          ],
          [
           "-191 to 160"
          ],
          [
           "-191 to 160"
          ],
          [
           "-191 to 160"
          ],
          [
           "-191 to 160"
          ],
          [
           "-191 to 160"
          ],
          [
           "-191 to 160"
          ],
          [
           "-191 to 160"
          ],
          [
           "-191 to 160"
          ],
          [
           "-191 to 160"
          ],
          [
           "-191 to 160"
          ],
          [
           "-191 to 160"
          ],
          [
           "-191 to 160"
          ],
          [
           "-191 to 160"
          ],
          [
           "-191 to 160"
          ],
          [
           "-191 to 160"
          ],
          [
           "-191 to 160"
          ],
          [
           "-191 to 160"
          ],
          [
           "-191 to 160"
          ],
          [
           "-191 to 160"
          ],
          [
           "-191 to 160"
          ],
          [
           "-191 to 160"
          ],
          [
           "-191 to 160"
          ],
          [
           "-191 to 160"
          ],
          [
           "-191 to 160"
          ],
          [
           "-191 to 160"
          ],
          [
           "-191 to 160"
          ],
          [
           "-191 to 160"
          ],
          [
           "-191 to 160"
          ],
          [
           "-191 to 160"
          ],
          [
           "-191 to 160"
          ],
          [
           "-191 to 160"
          ],
          [
           "-191 to 160"
          ],
          [
           "-191 to 160"
          ],
          [
           "-191 to 160"
          ],
          [
           "-191 to 160"
          ],
          [
           "-191 to 160"
          ],
          [
           "-191 to 160"
          ],
          [
           "-191 to 160"
          ],
          [
           "-191 to 160"
          ],
          [
           "-191 to 160"
          ],
          [
           "-191 to 160"
          ],
          [
           "-191 to 160"
          ],
          [
           "-191 to 160"
          ],
          [
           "-191 to 160"
          ],
          [
           "-191 to 160"
          ],
          [
           "-191 to 160"
          ],
          [
           "-191 to 160"
          ],
          [
           "-191 to 160"
          ],
          [
           "-191 to 160"
          ],
          [
           "-191 to 160"
          ],
          [
           "-191 to 160"
          ],
          [
           "-191 to 160"
          ],
          [
           "-191 to 160"
          ],
          [
           "-191 to 160"
          ],
          [
           "-191 to 160"
          ],
          [
           "-191 to 160"
          ],
          [
           "-191 to 160"
          ],
          [
           "-191 to 160"
          ],
          [
           "-191 to 160"
          ],
          [
           "-191 to 160"
          ],
          [
           "-191 to 160"
          ],
          [
           "-191 to 160"
          ],
          [
           "-191 to 160"
          ],
          [
           "-191 to 160"
          ],
          [
           "-191 to 160"
          ],
          [
           "-191 to 160"
          ]
         ],
         "hovertemplate": "<b>%{hovertext}</b><br><br>net_flow_cat=%{customdata[0]}<br>size=%{marker.size}<br>lat=%{lat}<br>long=%{lon}<extra></extra>",
         "hovertext": [
          "Aberdeen Place, St. John's Wood",
          "Albert Gate, Hyde Park",
          "Alderney Street, Pimlico",
          "Ampton Street , Clerkenwell",
          "Argyle Street, Kings Cross",
          "Ashley Place, Victoria",
          "Baker Street, Marylebone",
          "Bankside Mix, Bankside",
          "Barbican Centre, Barbican",
          "Bath Street, St. Luke's",
          "Baylis Road, Waterloo",
          "Bayswater Road, Hyde Park",
          "Bedford Way, Bloomsbury",
          "Belgrave Road, Victoria",
          "Bell Street , Marylebone",
          "Belvedere Road 1, South Bank",
          "Bethnal Green Road, Shoreditch",
          "Black Prince Road, Vauxhall",
          "Borough High Street, The Borough",
          "Borough Road, Elephant & Castle",
          "Boston Place, Marylebone",
          "Bourne Street, Belgravia",
          "Braham Street, Aldgate",
          "Bramham Gardens, Earl's Court",
          "Brick Lane Market, Shoreditch",
          "Bricklayers Arms, Borough",
          "British Museum, Bloomsbury",
          "Brunswick Square, Bloomsbury",
          "Butler Place, Westminster",
          "Buxton Street 1, Shoreditch",
          "Cadogan Gardens, Chelsea",
          "Calshot Street , King's Cross",
          "Cartwright Gardens , Bloomsbury",
          "Chapel Place, Marylebone",
          "Charlbert Street, St. John's Wood",
          "Charlotte Street, Fitzrovia",
          "Chepstow Villas, Notting Hill",
          "Christopher Street, Liverpool Street",
          "City Road, Angel",
          "Clapham Common Station, Clapham Common",
          "Claremont Square, Angel",
          "Claverton Street, Pimlico",
          "Clerkenwell Green, Clerkenwell",
          "Cleveland Gardens, Bayswater",
          "Clifford Street, Mayfair",
          "Clifton Road, Maida Vale",
          "Columbia Road, Shoreditch",
          "Commercial Street, Shoreditch",
          "Cotton Garden Estate, Kennington",
          "Craven Street, Strand",
          "Crosswall, Tower",
          "Devonshire Terrace, Bayswater",
          "Dickens Square, Borough",
          "Doric Way , Somers Town",
          "Dorset Square, Marylebone",
          "Drury Lane, Covent Garden",
          "Earnshaw Street , Covent Garden",
          "East Road, Hoxton",
          "Eastbourne Mews, Paddington",
          "Edgware Road Station, Marylebone",
          "Elizabeth Bridge, Victoria",
          "Embankment (Savoy), Strand",
          "Emperor's Gate, South Kensington",
          "Endsleigh Gardens, Euston",
          "Euston Road, Euston",
          "Eversholt Street , Camden Town",
          "Finsbury Circus, Liverpool Street",
          "Finsbury Leisure Centre, St. Luke's",
          "Finsbury Square , Moorgate",
          "Fire Brigade Pier, Vauxhall",
          "Flood Street, Chelsea",
          "Frampton Street, Paddington",
          "Frith Street, Soho",
          "George Street, Marylebone",
          "Gloucester Road Station, South Kensington",
          "Gloucester Street, Pimlico",
          "Gloucester Terrace, Bayswater",
          "Golden Lane, Barbican",
          "Goswell Road (City Uni), Finsbury",
          "Graham Street, Angel",
          "Great Russell Street, Bloomsbury",
          "Great Tower Street, Monument",
          "Grosvenor Crescent, Belgravia",
          "Grove End Road, St. John's Wood",
          "Guilford Street , Bloomsbury",
          "Hampton Street, Walworth",
          "Harriet Street, Knightsbridge",
          "Harrington Square 1, Camden Town",
          "Harrowby Street, Marylebone",
          "Hatton Garden, Holborn",
          "Hatton Wall, Holborn",
          "Hereford Road, Bayswater",
          "High Holborn , Covent Garden",
          "Holborn Circus, Holborn",
          "Holy Trinity Brompton, Knightsbridge",
          "Hop Exchange, The Borough",
          "Horseferry Road, Westminster",
          "Howland Street, Fitzrovia",
          "Hyde Park Corner, Hyde Park",
          "Ilchester Place, Kensington",
          "Jewry Street, Aldgate",
          "Kennington Cross, Kennington",
          "Kennington Lane Rail Bridge, Vauxhall",
          "Kennington Road Post Office, Oval",
          "Kensington Church Street, Kensington",
          "Kensington Gore, Knightsbridge",
          "King Edward Walk, Waterloo",
          "Kingsway, Covent Garden",
          "Knightsbridge, Hyde Park",
          "LMU Commercial Road, Whitechapel",
          "Lambeth North Station, Waterloo",
          "Lambeth Road, Vauxhall",
          "Leman Street, Aldgate",
          "Leonard Circus , Shoreditch",
          "Lexham Gardens, Kensington",
          "Lisson Grove, St. John's Wood",
          "Little Argyll Street, West End",
          "Liverpool Road (N1 Centre), Angel",
          "Lollard Street, Vauxhall",
          "London Zoo Car Park, The Regent's Park",
          "Long Lane , Bermondsey",
          "Longford Street, The Regent's Park",
          "Lower Marsh, Waterloo",
          "Lower Thames Street, Monument",
          "Macclesfield Rd, St Lukes",
          "Maida Vale, Maida Vale",
          "Marylebone Lane, Marylebone",
          "Millbank Tower, Pimlico",
          "Millennium Hotel, Mayfair",
          "Milroy Walk, South Bank",
          "Montpelier Street, Knightsbridge",
          "Moorfields, Moorgate",
          "Murray Grove , Hoxton",
          "Museum of London, Barbican",
          "Natural History Museum, South Kensington",
          "Nesham Street, Wapping",
          "Nevern Place, Earl's Court",
          "New Globe Walk, Bankside",
          "New Inn Yard, Shoreditch",
          "New Kent Road, The Borough",
          "New North Road 2, Hoxton",
          "New Road 1 , Whitechapel",
          "Newgate Street , St. Paul's",
          "North Audley Street, Mayfair",
          "Northumberland Avenue, Strand",
          "Notting Hill Gate Station, Notting Hill",
          "Nutford Place, Marylebone",
          "Old Quebec Street, Marylebone",
          "Old Street Station, St. Luke's",
          "Ontario Street, Elephant & Castle",
          "Orsett Terrace, Bayswater",
          "Paddington Green, Paddington",
          "Palace Gardens Terrace, Notting Hill",
          "Palace Gate, Kensington Gardens",
          "Pall Mall East, West End",
          "Park Lane , Hyde Park",
          "Park Road (Baker Street), The Regent's Park",
          "Park Street, Bankside",
          "Pembridge Villas, Notting Hill",
          "Phillimore Gardens, Kensington",
          "Pindar Street, Liverpool Street",
          "Pont Street, Knightsbridge",
          "Portland Place, Marylebone",
          "Prince Albert Road, The Regent's Park",
          "Queen Mother Sports Centre, Victoria",
          "Queen Street 1, Bank",
          "Queen Victoria Street, St. Paul's",
          "Queen's Gate (Central), South Kensington",
          "Queen's Gate (North), Kensington",
          "Queensway, Kensington Gardens",
          "Rampayne Street, Pimlico",
          "Regency Street, Westminster",
          "Risinghill Street, Angel",
          "River Street , Clerkenwell",
          "Riverlight North, Nine Elms",
          "Roscoe Street, St. Luke's",
          "Royal College Street, Camden Town",
          "Royal London Hospital, Whitechapel",
          "Russell Square Station, Bloomsbury",
          "Sackville Street, Mayfair",
          "Sardinia Street, Holborn",
          "Scala Street, Fitzrovia",
          "Sedding Street, Sloane Square",
          "Serpentine Car Park, Hyde Park",
          "Seville Street, Knightsbridge",
          "Shouldham Street, Marylebone",
          "Snow Hill, Farringdon",
          "Soho Square , Soho",
          "South Wharf Road, Paddington",
          "Southampton Place, Holborn",
          "Southampton Street, Strand",
          "St. Chad's Street, King's Cross",
          "St. George Street, Mayfair",
          "St. George's Square, Pimlico",
          "St. James's Square, St. James's",
          "St. John Street, Finsbury",
          "St. John's Wood Church, The Regent's Park",
          "St. John's Wood Road, St. John's Wood",
          "St. Mary Axe, Aldgate",
          "Stamford Street, South Bank",
          "Strand, Strand",
          "Sumner Place, South Kensington",
          "Sun Street, Liverpool Street",
          "Tanner Street, Bermondsey",
          "Tavistock Street, Covent Garden",
          "Taviton Street, Bloomsbury",
          "The Guildhall, Guildhall",
          "The Tennis Courts, The Regent's Park",
          "Torrens Street, Angel",
          "Tower Gardens , Tower",
          "Tower Wharf, Bermondsey",
          "Trebovir Road, Earl's Court",
          "Triangle Car Park, Hyde Park",
          "Turquoise Island, Notting Hill",
          "Tysoe Street, Clerkenwell",
          "Union Street, The Borough",
          "Vauxhall Bridge , Pimlico",
          "Vauxhall Cross, Vauxhall",
          "Vauxhall Street, Vauxhall",
          "Vincent Square, Westminster",
          "Walnut Tree Walk, Vauxhall",
          "Wapping High Street, Wapping",
          "Wardour Street, Soho",
          "Warren Street Station, Euston",
          "Warwick Avenue Station, Maida Vale",
          "Warwick Road, Olympia",
          "Warwick Row, Westminster",
          "Waterloo Bridge, South Bank",
          "Waterloo Road, South Bank",
          "Waterloo Station 1, Waterloo",
          "Waterloo Station 2, Waterloo",
          "Waterloo Station 3, Waterloo",
          "Wellington Arch, Hyde Park",
          "Wellington Road, St. John's Wood",
          "Wellington Street , Strand",
          "West Cromwell Road, Earl's Court",
          "West Smithfield Rotunda, Farringdon",
          "Westbourne Green, Westbourne",
          "Westbourne Grove, Bayswater",
          "Whitehall Place, Strand",
          "William IV Street, Strand",
          "Windsor Terrace, Hoxton",
          "Wood Street, Guildhall",
          "Woodstock Street, Mayfair",
          "Wormwood Street, Liverpool Street",
          "Worship Street, Shoreditch",
          "Wright's Lane, Kensington"
         ],
         "lat": {
          "bdata": "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",
          "dtype": "f8"
         },
         "legendgroup": "-191 to 160",
         "lon": {
          "bdata": "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",
          "dtype": "f8"
         },
         "marker": {
          "color": "#E6B3B3",
          "size": {
           "bdata": "NwBNAAwAQAAUAA4AXAAGAAsAUgAiAA8AXgBQAHUAgwAiABAAWwBZABQAlAAmACgAkACEAE8ACACdADAArABQAEAAhgBNAI8AYgAyAAEAPABuAFsAMAAaAIAAlgAhADgASQAXAJYAWgATAAcAYwCBACgAhQA4ADQACQA+ABcAOQANACIACAB4AF4AVQBlAI0AUgBPABQAOwCKABMAOwA/AKEAJAAsAGkAQwAfAA8ALQAQAE0AJQASAGUAAAA9AHEAgQA6AD4ARgCvAFwAYgCEAEcAkAAkACwAQAAZABYAAgCSACsAVQAjABgABQAcAAgAMgAlADQASwAHAEAAXgB9ADEAMQASABAAZAATAHQAGgBbAA0AQwCHABIAWwCEAHkAUQAYAHEARgA1AIMAKwAkADsABgATACoAVwBkAFcASAAfAB0AVgBGAAUAMQBwABgAAgBjAAwANAA2AB4AEQBXAAoAIgCFAD8AGgA7ACAAWQAOAI0AOAATACcAGQAwABoANgAwACQADwCxABoAswBZAAQABwCGADkAMwAlAEkALwAWAC8AUwBLABUAcQAUAIsAnABQAIQANwAcADQAdABHACAAIQBZAGkAQAAiAJ4AEwC3AFAAMgBPAAAAKQBDACUAagBBAAkALQA8ADsAIwA=",
           "dtype": "i2"
          },
          "sizemode": "area",
          "sizeref": 3.9644444444444447
         },
         "mode": "markers",
         "name": "-191 to 160",
         "showlegend": true,
         "subplot": "map",
         "type": "scattermap"
        },
        {
         "customdata": [
          [
           "< -541"
          ],
          [
           "< -541"
          ],
          [
           "< -541"
          ],
          [
           "< -541"
          ],
          [
           "< -541"
          ]
         ],
         "hovertemplate": "<b>%{hovertext}</b><br><br>net_flow_cat=%{customdata[0]}<br>size=%{marker.size}<br>lat=%{lat}<br>long=%{lon}<extra></extra>",
         "hovertext": [
          "Albert Embankment, Vauxhall",
          "Black Lion Gate, Kensington Gardens",
          "Bunhill Row, Moorgate",
          "Gower Place , Euston",
          "Paddington Street, Marylebone"
         ],
         "lat": {
          "bdata": "6JEWmca+SUCnjW6tRMFJQKI94oCrwklAiSfcpzrDSUB3Y4N9osJJQA==",
          "dtype": "f8"
         },
         "legendgroup": "< -541",
         "lon": {
          "bdata": "xSu4O0Vwv7+sRCfrOgvIv9NXiPXjAre/kCX/1dtNwb9Q7XF+Qc3Dvw==",
          "dtype": "f8"
         },
         "marker": {
          "color": "#660000",
          "size": {
           "bdata": "bQPrAoUCfAOaAg==",
           "dtype": "i2"
          },
          "sizemode": "area",
          "sizeref": 3.9644444444444447
         },
         "mode": "markers",
         "name": "< -541",
         "showlegend": true,
         "subplot": "map",
         "type": "scattermap"
        },
        {
         "customdata": [
          [
           "-541 to -191"
          ],
          [
           "-541 to -191"
          ],
          [
           "-541 to -191"
          ],
          [
           "-541 to -191"
          ],
          [
           "-541 to -191"
          ],
          [
           "-541 to -191"
          ],
          [
           "-541 to -191"
          ],
          [
           "-541 to -191"
          ],
          [
           "-541 to -191"
          ],
          [
           "-541 to -191"
          ],
          [
           "-541 to -191"
          ],
          [
           "-541 to -191"
          ],
          [
           "-541 to -191"
          ],
          [
           "-541 to -191"
          ],
          [
           "-541 to -191"
          ],
          [
           "-541 to -191"
          ],
          [
           "-541 to -191"
          ],
          [
           "-541 to -191"
          ]
         ],
         "hovertemplate": "<b>%{hovertext}</b><br><br>net_flow_cat=%{customdata[0]}<br>size=%{marker.size}<br>lat=%{lat}<br>long=%{lon}<extra></extra>",
         "hovertext": [
          "Aldersgate Street, Barbican",
          "Bank of England Museum, Bank",
          "Bolsover Street, Fitzrovia",
          "Broadcasting House, Marylebone",
          "Brushfield Street, Liverpool Street",
          "Crawford Street, Marylebone",
          "Empire Square, The Borough",
          "Falkirk Street, Hoxton",
          "Finsbury Library , Finsbury",
          "Godliman Street, St. Paul's",
          "Grosvenor Road, Pimlico",
          "Harper Road, The Borough",
          "Howick Place, Westminster",
          "London Zoo,  The Regent's Park",
          "North Wharf Road, Paddington",
          "Norton Folgate, Liverpool Street",
          "South Kensington Station, South Kensington",
          "St. Martin's Street, West End"
         ],
         "lat": {
          "bdata": "T/LZ8KrCSUBVgb022cFJQHw79KMCw0lAGCN1r1HCSUD/0MyTa8JJQF+1MuGXwklAgeKu+xrASUB2nl8x9sNJQDo1fn5rw0lAsjooF5nBSUBncEovIL5JQABU1A3Sv0lA+wRxmpW/SUD7FJVHlsRJQAn6Cz1iwklAIQZ42rPCSUD+X3XkSL9JQAg6OccpwUlA",
          "dtype": "f8"
         },
         "legendgroup": "-541 to -191",
         "lon": {
          "bdata": "e5lg7EjruL/RtmeEIWy2v8FfrYnuYcK/fU+Eixd2wr/Hnj2XqUm0vwSanX+aHsS/eoB/LkD5tr8bBdfI7Ri0v3sJQ1RJs7q/pRUK0VRhub8HHhLQ2jPCv5f1sW77n7i/LeTSdwXCwb9WCC/qKAHEv/4PsFbtmsa/PUww2c4wtL/KqDKMu0HGvyDAzr/wmcC/",
          "dtype": "f8"
         },
         "marker": {
          "color": "#CC3333",
          "size": {
           "bdata": "9gDGAGQB6wDXAGIB8wDYAP4BbQHyAP8A0gDFAFgBegHqAJQB",
           "dtype": "i2"
          },
          "sizemode": "area",
          "sizeref": 3.9644444444444447
         },
         "mode": "markers",
         "name": "-541 to -191",
         "showlegend": true,
         "subplot": "map",
         "type": "scattermap"
        },
        {
         "customdata": [
          [
           "160 to 510"
          ],
          [
           "160 to 510"
          ],
          [
           "160 to 510"
          ],
          [
           "160 to 510"
          ],
          [
           "160 to 510"
          ],
          [
           "160 to 510"
          ],
          [
           "160 to 510"
          ],
          [
           "160 to 510"
          ],
          [
           "160 to 510"
          ],
          [
           "160 to 510"
          ],
          [
           "160 to 510"
          ],
          [
           "160 to 510"
          ],
          [
           "160 to 510"
          ],
          [
           "160 to 510"
          ],
          [
           "160 to 510"
          ],
          [
           "160 to 510"
          ],
          [
           "160 to 510"
          ],
          [
           "160 to 510"
          ],
          [
           "160 to 510"
          ],
          [
           "160 to 510"
          ],
          [
           "160 to 510"
          ],
          [
           "160 to 510"
          ],
          [
           "160 to 510"
          ],
          [
           "160 to 510"
          ],
          [
           "160 to 510"
          ],
          [
           "160 to 510"
          ],
          [
           "160 to 510"
          ],
          [
           "160 to 510"
          ]
         ],
         "hovertemplate": "<b>%{hovertext}</b><br><br>net_flow_cat=%{customdata[0]}<br>size=%{marker.size}<br>lat=%{lat}<br>long=%{lon}<extra></extra>",
         "hovertext": [
          "Bermondsey Street, Bermondsey",
          "Berry Street, Clerkenwell",
          "Bruton Street, Mayfair",
          "Carey Street, Holborn",
          "Chelsea Green, Chelsea",
          "Cloudesley Road, Angel",
          "Curlew Street, Shad Thames",
          "Farm Street, Mayfair",
          "George Row, Bermondsey",
          "Great Dover Street, The Borough",
          "Hampstead Road, Euston",
          "Hardwick Street, Clerkenwell",
          "Imperial College, Knightsbridge",
          "Kennington Road, Vauxhall",
          "Kensington Olympia Station, Olympia",
          "LSBU (Borough Road), Elephant & Castle",
          "Malet Street, Bloomsbury",
          "Mallory Street, Marylebone",
          "Poured Lines, Bankside",
          "Queen's Gate (South), South Kensington",
          "Queen's Gate, Kensington Gardens",
          "Red Lion Square, Holborn",
          "Shoreditch Park, Hoxton",
          "Swan Street, The Borough",
          "Tachbrook Street, Victoria",
          "Theobald's Road , Holborn",
          "Tooley Street, Bermondsey",
          "Westminster University, Marylebone"
         ],
         "lat": {
          "bdata": "JJdiu7m/SUBXSPHY7MJJQHbBZNNfwUlAam0a2+vBSUDMQKcYzr5JQDam7YBnxElAM+tatUrASUBLTtRvMsFJQFmjHqLRv0lAtQbnOqq/SUCbyKv3RMNJQFf3flmQw0lAJ3hURu2/SUCPUFSyc79JQBkmbKLDv0lARU2y3da/SUCghpBvxsJJQCwVTOM0w0lAbHWcT9vASUC6C72TCb9JQLO8ITY4wElAH77I23zCSUDX+uCEW8RJQDfhoLUJwElAN6Ufgf2+SUAMrZDqosJJQJBeHnxywElAdUBtr+DCSUA=",
          "dtype": "f8"
         },
         "legendgroup": "160 to 510",
         "lon": {
          "bdata": "K5FdzEPktL8gcCLPNZm5v5TNXK0BdMK/i6aIE2XdvL9R4GAZYk/Fv935nMAW6bu/njAXpxD+sr+5ey2mod/Cv/h/ZvTJqLG/SJAXwP7ltr9RkNU2kLHBv4TSvIhbqru/nBG3oH0Ax7+No05NPWO8v5hlOx600Mq/Uk7SAetmur/Ss+mg/LHAv8oqixN2ScW/AuOp3zZnur8ygFqG5NbGv/r9/z92Bce/cRL3Ft5+vr8OgI0r+xy2v3rx9+tLv7e/PvljdvC1wb8hXuGhS9+9v2AJIIwKYrS/Qrec7f/Tw78=",
          "dtype": "f8"
         },
         "marker": {
          "color": "#336633",
          "size": {
           "bdata": "/gCnAMoAygCsAOYApgAZAbwAvwAlAdIAuwCyAasA5ADrAAkBpQCkAKwABgHZAHUBsQAXAaMA5AA=",
           "dtype": "i2"
          },
          "sizemode": "area",
          "sizeref": 3.9644444444444447
         },
         "mode": "markers",
         "name": "160 to 510",
         "showlegend": true,
         "subplot": "map",
         "type": "scattermap"
        },
        {
         "customdata": [
          [
           "> 510"
          ],
          [
           "> 510"
          ]
         ],
         "hovertemplate": "<b>%{hovertext}</b><br><br>net_flow_cat=%{customdata[0]}<br>size=%{marker.size}<br>lat=%{lat}<br>long=%{lon}<extra></extra>",
         "hovertext": [
          "Drummond Street , Euston",
          "Wenlock Road , Hoxton"
         ],
         "lat": {
          "bdata": "Tioaa3/DSUBqMiWK98NJQA==",
          "dtype": "f8"
         },
         "legendgroup": "> 510",
         "lon": {
          "bdata": "EhcdHC5qwb+EJFjBFAq4vw==",
          "dtype": "f8"
         },
         "marker": {
          "color": "#004D00",
          "size": {
           "bdata": "CAJdAw==",
           "dtype": "i2"
          },
          "sizemode": "area",
          "sizeref": 3.9644444444444447
         },
         "mode": "markers",
         "name": "> 510",
         "showlegend": true,
         "subplot": "map",
         "type": "scattermap"
        }
       ],
       "layout": {
        "legend": {
         "itemsizing": "constant",
         "title": {
          "text": "net_flow_cat"
         },
         "tracegroupgap": 0
        },
        "map": {
         "center": {
          "lat": 51.51149450144678,
          "lon": -0.12971500170708067
         },
         "domain": {
          "x": [
           0,
           1
          ],
          "y": [
           0,
           1
          ]
         },
         "zoom": 12
        },
        "mapbox": {
         "center": {
          "lat": 51.51149450144678,
          "lon": -0.12971500170708067
         },
         "zoom": 12
        },
        "template": {
         "data": {
          "bar": [
           {
            "error_x": {
             "color": "#2a3f5f"
            },
            "error_y": {
             "color": "#2a3f5f"
            },
            "marker": {
             "line": {
              "color": "#E5ECF6",
              "width": 0.5
             },
             "pattern": {
              "fillmode": "overlay",
              "size": 10,
              "solidity": 0.2
             }
            },
            "type": "bar"
           }
          ],
          "barpolar": [
           {
            "marker": {
             "line": {
              "color": "#E5ECF6",
              "width": 0.5
             },
             "pattern": {
              "fillmode": "overlay",
              "size": 10,
              "solidity": 0.2
             }
            },
            "type": "barpolar"
           }
          ],
          "carpet": [
           {
            "aaxis": {
             "endlinecolor": "#2a3f5f",
             "gridcolor": "white",
             "linecolor": "white",
             "minorgridcolor": "white",
             "startlinecolor": "#2a3f5f"
            },
            "baxis": {
             "endlinecolor": "#2a3f5f",
             "gridcolor": "white",
             "linecolor": "white",
             "minorgridcolor": "white",
             "startlinecolor": "#2a3f5f"
            },
            "type": "carpet"
           }
          ],
          "choropleth": [
           {
            "colorbar": {
             "outlinewidth": 0,
             "ticks": ""
            },
            "type": "choropleth"
           }
          ],
          "contour": [
           {
            "colorbar": {
             "outlinewidth": 0,
             "ticks": ""
            },
            "colorscale": [
             [
              0,
              "#0d0887"
             ],
             [
              0.1111111111111111,
              "#46039f"
             ],
             [
              0.2222222222222222,
              "#7201a8"
             ],
             [
              0.3333333333333333,
              "#9c179e"
             ],
             [
              0.4444444444444444,
              "#bd3786"
             ],
             [
              0.5555555555555556,
              "#d8576b"
             ],
             [
              0.6666666666666666,
              "#ed7953"
             ],
             [
              0.7777777777777778,
              "#fb9f3a"
             ],
             [
              0.8888888888888888,
              "#fdca26"
             ],
             [
              1,
              "#f0f921"
             ]
            ],
            "type": "contour"
           }
          ],
          "contourcarpet": [
           {
            "colorbar": {
             "outlinewidth": 0,
             "ticks": ""
            },
            "type": "contourcarpet"
           }
          ],
          "heatmap": [
           {
            "colorbar": {
             "outlinewidth": 0,
             "ticks": ""
            },
            "colorscale": [
             [
              0,
              "#0d0887"
             ],
             [
              0.1111111111111111,
              "#46039f"
             ],
             [
              0.2222222222222222,
              "#7201a8"
             ],
             [
              0.3333333333333333,
              "#9c179e"
             ],
             [
              0.4444444444444444,
              "#bd3786"
             ],
             [
              0.5555555555555556,
              "#d8576b"
             ],
             [
              0.6666666666666666,
              "#ed7953"
             ],
             [
              0.7777777777777778,
              "#fb9f3a"
             ],
             [
              0.8888888888888888,
              "#fdca26"
             ],
             [
              1,
              "#f0f921"
             ]
            ],
            "type": "heatmap"
           }
          ],
          "histogram": [
           {
            "marker": {
             "pattern": {
              "fillmode": "overlay",
              "size": 10,
              "solidity": 0.2
             }
            },
            "type": "histogram"
           }
          ],
          "histogram2d": [
           {
            "colorbar": {
             "outlinewidth": 0,
             "ticks": ""
            },
            "colorscale": [
             [
              0,
              "#0d0887"
             ],
             [
              0.1111111111111111,
              "#46039f"
             ],
             [
              0.2222222222222222,
              "#7201a8"
             ],
             [
              0.3333333333333333,
              "#9c179e"
             ],
             [
              0.4444444444444444,
              "#bd3786"
             ],
             [
              0.5555555555555556,
              "#d8576b"
             ],
             [
              0.6666666666666666,
              "#ed7953"
             ],
             [
              0.7777777777777778,
              "#fb9f3a"
             ],
             [
              0.8888888888888888,
              "#fdca26"
             ],
             [
              1,
              "#f0f921"
             ]
            ],
            "type": "histogram2d"
           }
          ],
          "histogram2dcontour": [
           {
            "colorbar": {
             "outlinewidth": 0,
             "ticks": ""
            },
            "colorscale": [
             [
              0,
              "#0d0887"
             ],
             [
              0.1111111111111111,
              "#46039f"
             ],
             [
              0.2222222222222222,
              "#7201a8"
             ],
             [
              0.3333333333333333,
              "#9c179e"
             ],
             [
              0.4444444444444444,
              "#bd3786"
             ],
             [
              0.5555555555555556,
              "#d8576b"
             ],
             [
              0.6666666666666666,
              "#ed7953"
             ],
             [
              0.7777777777777778,
              "#fb9f3a"
             ],
             [
              0.8888888888888888,
              "#fdca26"
             ],
             [
              1,
              "#f0f921"
             ]
            ],
            "type": "histogram2dcontour"
           }
          ],
          "mesh3d": [
           {
            "colorbar": {
             "outlinewidth": 0,
             "ticks": ""
            },
            "type": "mesh3d"
           }
          ],
          "parcoords": [
           {
            "line": {
             "colorbar": {
              "outlinewidth": 0,
              "ticks": ""
             }
            },
            "type": "parcoords"
           }
          ],
          "pie": [
           {
            "automargin": true,
            "type": "pie"
           }
          ],
          "scatter": [
           {
            "fillpattern": {
             "fillmode": "overlay",
             "size": 10,
             "solidity": 0.2
            },
            "type": "scatter"
           }
          ],
          "scatter3d": [
           {
            "line": {
             "colorbar": {
              "outlinewidth": 0,
              "ticks": ""
             }
            },
            "marker": {
             "colorbar": {
              "outlinewidth": 0,
              "ticks": ""
             }
            },
            "type": "scatter3d"
           }
          ],
          "scattercarpet": [
           {
            "marker": {
             "colorbar": {
              "outlinewidth": 0,
              "ticks": ""
             }
            },
            "type": "scattercarpet"
           }
          ],
          "scattergeo": [
           {
            "marker": {
             "colorbar": {
              "outlinewidth": 0,
              "ticks": ""
             }
            },
            "type": "scattergeo"
           }
          ],
          "scattergl": [
           {
            "marker": {
             "colorbar": {
              "outlinewidth": 0,
              "ticks": ""
             }
            },
            "type": "scattergl"
           }
          ],
          "scattermap": [
           {
            "marker": {
             "colorbar": {
              "outlinewidth": 0,
              "ticks": ""
             }
            },
            "type": "scattermap"
           }
          ],
          "scattermapbox": [
           {
            "marker": {
             "colorbar": {
              "outlinewidth": 0,
              "ticks": ""
             }
            },
            "type": "scattermapbox"
           }
          ],
          "scatterpolar": [
           {
            "marker": {
             "colorbar": {
              "outlinewidth": 0,
              "ticks": ""
             }
            },
            "type": "scatterpolar"
           }
          ],
          "scatterpolargl": [
           {
            "marker": {
             "colorbar": {
              "outlinewidth": 0,
              "ticks": ""
             }
            },
            "type": "scatterpolargl"
           }
          ],
          "scatterternary": [
           {
            "marker": {
             "colorbar": {
              "outlinewidth": 0,
              "ticks": ""
             }
            },
            "type": "scatterternary"
           }
          ],
          "surface": [
           {
            "colorbar": {
             "outlinewidth": 0,
             "ticks": ""
            },
            "colorscale": [
             [
              0,
              "#0d0887"
             ],
             [
              0.1111111111111111,
              "#46039f"
             ],
             [
              0.2222222222222222,
              "#7201a8"
             ],
             [
              0.3333333333333333,
              "#9c179e"
             ],
             [
              0.4444444444444444,
              "#bd3786"
             ],
             [
              0.5555555555555556,
              "#d8576b"
             ],
             [
              0.6666666666666666,
              "#ed7953"
             ],
             [
              0.7777777777777778,
              "#fb9f3a"
             ],
             [
              0.8888888888888888,
              "#fdca26"
             ],
             [
              1,
              "#f0f921"
             ]
            ],
            "type": "surface"
           }
          ],
          "table": [
           {
            "cells": {
             "fill": {
              "color": "#EBF0F8"
             },
             "line": {
              "color": "white"
             }
            },
            "header": {
             "fill": {
              "color": "#C8D4E3"
             },
             "line": {
              "color": "white"
             }
            },
            "type": "table"
           }
          ]
         },
         "layout": {
          "annotationdefaults": {
           "arrowcolor": "#2a3f5f",
           "arrowhead": 0,
           "arrowwidth": 1
          },
          "autotypenumbers": "strict",
          "coloraxis": {
           "colorbar": {
            "outlinewidth": 0,
            "ticks": ""
           }
          },
          "colorscale": {
           "diverging": [
            [
             0,
             "#8e0152"
            ],
            [
             0.1,
             "#c51b7d"
            ],
            [
             0.2,
             "#de77ae"
            ],
            [
             0.3,
             "#f1b6da"
            ],
            [
             0.4,
             "#fde0ef"
            ],
            [
             0.5,
             "#f7f7f7"
            ],
            [
             0.6,
             "#e6f5d0"
            ],
            [
             0.7,
             "#b8e186"
            ],
            [
             0.8,
             "#7fbc41"
            ],
            [
             0.9,
             "#4d9221"
            ],
            [
             1,
             "#276419"
            ]
           ],
           "sequential": [
            [
             0,
             "#0d0887"
            ],
            [
             0.1111111111111111,
             "#46039f"
            ],
            [
             0.2222222222222222,
             "#7201a8"
            ],
            [
             0.3333333333333333,
             "#9c179e"
            ],
            [
             0.4444444444444444,
             "#bd3786"
            ],
            [
             0.5555555555555556,
             "#d8576b"
            ],
            [
             0.6666666666666666,
             "#ed7953"
            ],
            [
             0.7777777777777778,
             "#fb9f3a"
            ],
            [
             0.8888888888888888,
             "#fdca26"
            ],
            [
             1,
             "#f0f921"
            ]
           ],
           "sequentialminus": [
            [
             0,
             "#0d0887"
            ],
            [
             0.1111111111111111,
             "#46039f"
            ],
            [
             0.2222222222222222,
             "#7201a8"
            ],
            [
             0.3333333333333333,
             "#9c179e"
            ],
            [
             0.4444444444444444,
             "#bd3786"
            ],
            [
             0.5555555555555556,
             "#d8576b"
            ],
            [
             0.6666666666666666,
             "#ed7953"
            ],
            [
             0.7777777777777778,
             "#fb9f3a"
            ],
            [
             0.8888888888888888,
             "#fdca26"
            ],
            [
             1,
             "#f0f921"
            ]
           ]
          },
          "colorway": [
           "#636efa",
           "#EF553B",
           "#00cc96",
           "#ab63fa",
           "#FFA15A",
           "#19d3f3",
           "#FF6692",
           "#B6E880",
           "#FF97FF",
           "#FECB52"
          ],
          "font": {
           "color": "#2a3f5f"
          },
          "geo": {
           "bgcolor": "white",
           "lakecolor": "white",
           "landcolor": "#E5ECF6",
           "showlakes": true,
           "showland": true,
           "subunitcolor": "white"
          },
          "hoverlabel": {
           "align": "left"
          },
          "hovermode": "closest",
          "mapbox": {
           "style": "light"
          },
          "paper_bgcolor": "white",
          "plot_bgcolor": "#E5ECF6",
          "polar": {
           "angularaxis": {
            "gridcolor": "white",
            "linecolor": "white",
            "ticks": ""
           },
           "bgcolor": "#E5ECF6",
           "radialaxis": {
            "gridcolor": "white",
            "linecolor": "white",
            "ticks": ""
           }
          },
          "scene": {
           "xaxis": {
            "backgroundcolor": "#E5ECF6",
            "gridcolor": "white",
            "gridwidth": 2,
            "linecolor": "white",
            "showbackground": true,
            "ticks": "",
            "zerolinecolor": "white"
           },
           "yaxis": {
            "backgroundcolor": "#E5ECF6",
            "gridcolor": "white",
            "gridwidth": 2,
            "linecolor": "white",
            "showbackground": true,
            "ticks": "",
            "zerolinecolor": "white"
           },
           "zaxis": {
            "backgroundcolor": "#E5ECF6",
            "gridcolor": "white",
            "gridwidth": 2,
            "linecolor": "white",
            "showbackground": true,
            "ticks": "",
            "zerolinecolor": "white"
           }
          },
          "shapedefaults": {
           "line": {
            "color": "#2a3f5f"
           }
          },
          "ternary": {
           "aaxis": {
            "gridcolor": "white",
            "linecolor": "white",
            "ticks": ""
           },
           "baxis": {
            "gridcolor": "white",
            "linecolor": "white",
            "ticks": ""
           },
           "bgcolor": "#E5ECF6",
           "caxis": {
            "gridcolor": "white",
            "linecolor": "white",
            "ticks": ""
           }
          },
          "title": {
           "x": 0.05
          },
          "xaxis": {
           "automargin": true,
           "gridcolor": "white",
           "linecolor": "white",
           "ticks": "",
           "title": {
            "standoff": 15
           },
           "zerolinecolor": "white",
           "zerolinewidth": 2
          },
          "yaxis": {
           "automargin": true,
           "gridcolor": "white",
           "linecolor": "white",
           "ticks": "",
           "title": {
            "standoff": 15
           },
           "zerolinecolor": "white",
           "zerolinewidth": 2
          }
         }
        },
        "title": {
         "text": "Flujo Neto de Viajes por Estación"
        }
       }
      }
     },
     "metadata": {},
     "output_type": "display_data"
    }
   ],
   "source": [
    "sample_matrix = trips_by_station(classic_trips)\n",
    "total_trips = total_trips_per_station(sample_matrix)\n",
    "net_flow = net_flow_per_station(sample_matrix)\n",
    "\n",
    "station_locations['total_trips'] = total_trips\n",
    "station_locations['net_flow'] = net_flow\n",
    "\n",
    "# Aplicar categorización con colores\n",
    "for col in ['nbDocks', 'total_trips', 'net_flow']:\n",
    "    station_locations[f'{col}_cat'], station_locations[f'{col}_color'] = categorize_column(station_locations, col)\n",
    "\n",
    "plot_station_locations(station_locations, \"nbDocks\", \"Capacidad de las Estaciones\")\n",
    "plot_station_locations(station_locations, \"total_trips\", \"Viajes Totales por Estación\")\n",
    "plot_station_locations(station_locations, \"net_flow\", \"Flujo Neto de Viajes por Estación\")"
   ]
  }
 ],
 "metadata": {
  "kernelspec": {
   "display_name": "Python 3",
   "language": "python",
   "name": "python3"
  },
  "language_info": {
   "codemirror_mode": {
    "name": "ipython",
    "version": 3
   },
   "file_extension": ".py",
   "mimetype": "text/x-python",
   "name": "python",
   "nbconvert_exporter": "python",
   "pygments_lexer": "ipython3",
   "version": "3.12.6"
  }
 },
 "nbformat": 4,
 "nbformat_minor": 2
}
